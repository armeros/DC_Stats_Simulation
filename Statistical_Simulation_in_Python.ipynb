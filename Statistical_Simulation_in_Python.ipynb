{
  "nbformat": 4,
  "nbformat_minor": 0,
  "metadata": {
    "colab": {
      "name": "Statistical Simulation in Python",
      "provenance": [],
      "collapsed_sections": []
    },
    "kernelspec": {
      "name": "python3",
      "display_name": "Python 3"
    },
    "language_info": {
      "name": "python"
    }
  },
  "cells": [
    {
      "cell_type": "markdown",
      "source": [
        "### ***Poisson random variable***\n",
        "\n",
        "The `numpy.random` module also has a number of useful probability distributions for both discrete and continuous random variables. In this exercise, you will learn how to draw samples from a probability distribution.\n",
        "\n",
        "In particular, you will draw samples from a very important discrete probability distribution, the ***Poisson*** distribution, which is typically used for modeling the average rate at which events occur.\n",
        "\n",
        "Following the exercise, you should be able to apply these steps to any of the probability distributions found in `numpy.random`. In addition, you will also see how the sample mean changes as we draw more samples from a distribution.\n",
        "\n",
        "* Using `np.random.poisson()` draw samples from a Poisson distribution using `lam` (lambda) and `size_1`.\n",
        "\n",
        "* Repeat the above step, but this time use `size_2`.\n",
        "\n",
        "* For each of the above samples, calculate the absolute difference between their mean and lambda using `np.mean()` and `abs()`."
      ],
      "metadata": {
        "id": "wZ5KlcbGbpuD"
      }
    },
    {
      "cell_type": "code",
      "execution_count": 2,
      "metadata": {
        "colab": {
          "base_uri": "https://localhost:8080/"
        },
        "id": "SY3fKNt0HpfK",
        "outputId": "cb71f44e-6426-4e94-eb99-1f5715a81f2d"
      },
      "outputs": [
        {
          "output_type": "stream",
          "name": "stdout",
          "text": [
            "|Lambda - sample mean| with 3 samples is 0.33333333333333304 and with 10000000 samples is 0.0007102999999997195. \n"
          ]
        }
      ],
      "source": [
        "import numpy as np\n",
        "\n",
        "# Initialize seed and parameters\n",
        "np.random.seed(123) \n",
        "lam, size_1, size_2 = 5, 3, 10000000  \n",
        "\n",
        "# Draw samples & calculate absolute difference between lambda and sample mean\n",
        "samples_1 = np.random.poisson(lam, size_1)\n",
        "samples_2 = np.random.poisson(lam, size_2)\n",
        "answer_1 = abs(np.mean(samples_1) - lam)\n",
        "answer_2 = abs(np.mean(samples_2) - lam) \n",
        "\n",
        "print(\"|Lambda - sample mean| with {} samples is {} and with {} samples is {}. \".format(size_1, answer_1, size_2, answer_2))"
      ]
    },
    {
      "cell_type": "markdown",
      "source": [
        "Why do you think the larger size gives us a better result?\n",
        "\n",
        "### ***Shuffling a deck of cards***\n",
        "\n",
        "Often times we are interested in randomizing the order of a set of items. Consider a game of cards where you first shuffle the deck of cards or a game of scrabble where the letters are first mixed in a bag. You will learn another useful function - **`np.random.shuffle()`**. This function allows you to randomly shuffle a sequence in place. At the end of this exercise, you will know how to shuffle a deck of cards or any sequence of items.\n",
        "\n",
        "* Use the **`np.random.shuffle()`** function to shuffle `deck_of_cards`.\n",
        "\n",
        "* Select the top three cards from this list by slicing."
      ],
      "metadata": {
        "id": "jmubEkRdc2rI"
      }
    },
    {
      "cell_type": "code",
      "source": [
        "import numpy as np\n",
        "\n",
        "deck_of_cards = [('Heart', 0),  ('Heart', 1), ('Heart', 2), ('Heart', 3), ('Heart', 4), ('Heart', 5), ('Heart', 6), ('Heart', 7), ('Heart', 8), ('Heart', 9), ('Heart', 10), ('Heart', 11), ('Heart', 12), ('Club', 0), ('Club', 1), ('Club', 2), ('Club', 3), ('Club', 4), ('Club', 5), ('Club', 6), ('Club', 7), ('Club', 8), ('Club', 9), ('Club', 10), ('Club', 11), ('Club', 12), ('Spade', 0), ('Spade', 1), ('Spade', 2), ('Spade', 3), ('Spade', 4), ('Spade', 5), ('Spade', 6), ('Spade', 7), ('Spade', 8), ('Spade', 9), ('Spade', 10), ('Spade', 11), ('Spade', 12), ('Diamond', 0), ('Diamond', 1), ('Diamond', 2), ('Diamond', 3), ('Diamond', 4), ('Diamond', 5), ('Diamond', 6), ('Diamond', 7), ('Diamond', 8), ('Diamond', 9), ('Diamond', 10), ('Diamond', 11), ('Diamond', 12)]\n",
        "# Shuffle the deck\n",
        "np.random.shuffle(deck_of_cards)\n",
        "\n",
        "# Print out the top three cards\n",
        "card_choices_after_shuffle = deck_of_cards[:3]\n",
        "print(card_choices_after_shuffle)\n"
      ],
      "metadata": {
        "colab": {
          "base_uri": "https://localhost:8080/"
        },
        "id": "Hy6r9k84cwQ3",
        "outputId": "ddeb4685-fb78-4bd2-cdbb-fc3caf903dd5"
      },
      "execution_count": 3,
      "outputs": [
        {
          "output_type": "stream",
          "name": "stdout",
          "text": [
            "[('Club', 3), ('Spade', 5), ('Diamond', 7)]\n"
          ]
        }
      ]
    },
    {
      "cell_type": "markdown",
      "source": [
        "### ***Throwing a fair die***\n",
        "\n",
        "Once you grasp the basics of designing a simulation, you can apply it to any system or process. Next, we will learn how each step is implemented using some basic examples.\n",
        "\n",
        "As we have learned, simulation involves ***repeated random sampling***. The first step then is to get one random sample. Once we have that, all we do is repeat the process multiple times. This exercise will focus on understanding how we get one random sample. We will study this in the context of throwing a fair six-sided die.\n",
        "\n",
        "By the end of this exercise, you will be familiar with how to implement the first two steps of running a simulation - defining a random variable and assigning probabilities.\n",
        "\n",
        "* Construct a six-sided die as a list of each of the possible outcomes and assign it to the variable `die`.\n",
        "\n",
        "* Define the probability of each of the six sides having an equal chance of showing up and assign it to the variable probabilities.\n",
        "\n",
        "* Finally, use **`np.random.choice()`** to simulate a single throw of the die and record its outcome in the `outcome` variable."
      ],
      "metadata": {
        "id": "ogGCjefDh0aH"
      }
    },
    {
      "cell_type": "code",
      "source": [
        "np.random.seed(123)\n",
        "\n",
        "# Define die outcomes and probabilities\n",
        "die, probabilities, throws = [1, 2, 3, 4, 5, 6], [1/6]*6, 1\n",
        "\n",
        "# Use np.random.choice to throw the die once and record the outcome\n",
        "outcome = np.random.choice(die, size=throws, p=probabilities)\n",
        "print(\"Outcome of the throw: {}\".format(outcome[0]))"
      ],
      "metadata": {
        "colab": {
          "base_uri": "https://localhost:8080/"
        },
        "id": "kOpAVoBdhOC_",
        "outputId": "5c0cafce-6236-417c-d51a-d16a0bded071"
      },
      "execution_count": 12,
      "outputs": [
        {
          "output_type": "stream",
          "name": "stdout",
          "text": [
            "Outcome of the throw: 5\n"
          ]
        }
      ]
    },
    {
      "cell_type": "markdown",
      "source": [
        " What do you think will happen if the probabilities are not all the same?\n",
        "\n",
        " ### ***Throwing two fair dice***\n",
        "\n",
        "Often times, our simulation will involve not just one, but multiple random variables. Consider a game where you throw two dice and win if each die shows the same number. Here we have two random variables - the two dice - and a relationship between each of them - we win if they show the same number, lose if they don't. In reality, the relationship between random variables can be much more complex, especially when simulating things like weather patterns.\n",
        "\n",
        "By the end of this exercise, you will be familiar with how to implement the third step of running a simulation - defining relationships between random variables.\n",
        "\n",
        "* Set `num_dice` to `2`.\n",
        "\n",
        "* Complete the **`np.random.choice()`** function to throw two dice and record the outcomes in the `outcomes` variable.\n",
        "\n",
        "* Fill in the Boolean condition to check if the two dice show the same number."
      ],
      "metadata": {
        "id": "QMq-gTsNjLT6"
      }
    },
    {
      "cell_type": "code",
      "source": [
        "np.random.seed(223)\n",
        "\n",
        "# Initialize number of dice, simulate & record outcome\n",
        "die, probabilities, num_dice = [1,2,3,4,5,6], [1/6]*6, 2\n",
        "outcomes = np.random.choice(die, size=num_dice, p=probabilities) \n",
        "\n",
        "# Win if the two dice show the same number\n",
        "if outcomes[0] == outcomes[1]: \n",
        "    answer = 'win' \n",
        "else:\n",
        "    answer = 'lose'\n",
        "\n",
        "print(\"The dice show {} and {}. You {}!\".format(outcomes[0], outcomes[1], answer))"
      ],
      "metadata": {
        "colab": {
          "base_uri": "https://localhost:8080/"
        },
        "id": "HkKbbhn-jDb5",
        "outputId": "2fdf5d7f-d264-417c-fe7f-1fdd9d4cce2f"
      },
      "execution_count": 13,
      "outputs": [
        {
          "output_type": "stream",
          "name": "stdout",
          "text": [
            "The dice show 5 and 5. You win!\n"
          ]
        }
      ]
    },
    {
      "cell_type": "markdown",
      "source": [
        "### ***Simulating the dice game***\n",
        "\n",
        "We now know how to implement the first three steps of a simulation. Now let's consider the next step - repeated random sampling.\n",
        "\n",
        "Simulating an outcome once doesn't tell us much about how often we can expect to see that outcome. In the case of the dice game from the previous exercise, it's great that we won once. But suppose we want to see how many times we can expect to win if we played this game multiple times, we need to repeat the random sampling process many times. Repeating the process of random sampling is helpful to understand and visualize inherent uncertainty and deciding next steps.\n",
        "\n",
        "Following this exercise, you will be familiar with implementing the fourth step of running a simulation - sampling repeatedly and generating outcomes.\n",
        "\n",
        "* Set `sims` to `100` repetitions and initialize `wins` to `0`.\n",
        "* Write a **`for`** loop to repeat throwing the dice.\n",
        "* Set `outcomes` to the outcome of throwing two dice.\n",
        "* If the two dice show the same number, increment `wins` by 1."
      ],
      "metadata": {
        "id": "jxiB3pTTmqWG"
      }
    },
    {
      "cell_type": "code",
      "source": [
        "import numpy as np \n",
        "\n",
        "np.random.seed(223)\n",
        "\n",
        "# Initialize model parameters & simulate dice throw\n",
        "die, probabilities, num_dice = [1,2,3,4,5,6], [1/6, 1/6, 1/6, 1/6, 1/6, 1/6], 2\n",
        "sims, wins = 100, 0\n",
        "\n",
        "for i in range(sims):\n",
        "    outcomes = np.random.choice(die, size=num_dice, p=probabilities) \n",
        "    # Increment `wins` by 1 if the dice show same number\n",
        "    if outcomes[0] == outcomes[1]: \n",
        "        wins = wins + 1 \n",
        "\n",
        "print(\"In {} games, you win {} times\".format(sims, wins))"
      ],
      "metadata": {
        "colab": {
          "base_uri": "https://localhost:8080/"
        },
        "id": "0S_2ObwGjGIY",
        "outputId": "57533fef-fb91-4853-dd19-09263127b7f1"
      },
      "execution_count": 15,
      "outputs": [
        {
          "output_type": "stream",
          "name": "stdout",
          "text": [
            "In 100 games, you win 25 times\n"
          ]
        }
      ]
    },
    {
      "cell_type": "markdown",
      "source": [
        "### ***Simulating one lottery drawing***\n",
        "\n",
        "\n",
        "We will use simulations to figure out whether or not we want to buy a lottery ticket. Suppose you have the opportunity to buy a lottery ticket which gives you a shot at a grand prize of $10,000. Since there are 1000 tickets in total, your probability of winning is 1 in 1000. Each ticket costs $10. Let's use our understanding of basic simulations to first simulate one drawing of the lottery.\n",
        "\n",
        "* Define `chance_of_winning` as the probability of winning the lottery.\n",
        "* Remember that `1` out of the total number of lottery tickets sold will win.\n",
        "* Set the `probability` list to the probabilities of receiving corresponding `gains` using `chance_of_winning`.\n",
        "* Use **`np.random.choice()`** to perform one simulation of this lottery drawing."
      ],
      "metadata": {
        "id": "s-0M3oq6nxoI"
      }
    },
    {
      "cell_type": "code",
      "source": [
        "import numpy as np \n",
        "\n",
        "np.random.seed(123)\n",
        "\n",
        "# Pre-defined constant variables\n",
        "lottery_ticket_cost, num_tickets, grand_prize = 10, 1000, 10000\n",
        "\n",
        "# Probability of winning\n",
        "chance_of_winning = 1/num_tickets\n",
        "\n",
        "# Simulate a single drawing of the lottery\n",
        "gains = [-lottery_ticket_cost, grand_prize-lottery_ticket_cost]\n",
        "probability = [1-chance_of_winning, chance_of_winning]\n",
        "outcome = np.random.choice(a=gains, size=1, p=probability, replace=True)\n",
        "\n",
        "print(\"Outcome of one drawing of the lottery is {}\".format(outcome))"
      ],
      "metadata": {
        "colab": {
          "base_uri": "https://localhost:8080/"
        },
        "id": "ZIJw5lTvnxYw",
        "outputId": "1668d13c-d482-4b20-9717-ccdd67617b62"
      },
      "execution_count": 16,
      "outputs": [
        {
          "output_type": "stream",
          "name": "stdout",
          "text": [
            "Outcome of one drawing of the lottery is [-10]\n"
          ]
        }
      ]
    },
    {
      "cell_type": "markdown",
      "source": [
        "### ***Should we buy?***\n",
        "\n",
        "In the last exercise, we simulated the random drawing of the lottery ticket once. In this exercise, we complete the simulation process by repeating the process multiple times.\n",
        "\n",
        "Repeating the process gives us multiple outcomes. We can think of this as multiple universes where the same lottery drawing occurred. We can then determine the average winnings across all these universes. If the average winnings are greater than what we pay for the ticket then it makes sense to buy it, otherwise, we might not want to buy the ticket.\n",
        "\n",
        "This is typically how simulations are used for evaluating business investments. After completing this exercise, you will have the basic tools required to use simulations for decision-making.\n",
        "\n",
        "* Set the `size` parameter, which controls the number of simulations, to `2000`.\n",
        "\n",
        "* Set `payoffs` equal to a list containing how much you could lose and how much you could win.\n",
        "\n",
        "* Set `probs` equal to a list of probabilities of losing and winning.\n",
        "\n",
        "* Calculate the mean of `outcomes` and assign it to `answer`."
      ],
      "metadata": {
        "id": "BYB2BbJvqZo_"
      }
    },
    {
      "cell_type": "code",
      "source": [
        "import numpy as np \n",
        "\n",
        "np.random.seed(122)\n",
        "\n",
        "# Initialize size and simulate outcome\n",
        "lottery_ticket_cost, num_tickets, grand_prize = 10, 1000, 10000\n",
        "chance_of_winning = 1/num_tickets\n",
        "size = 2000\n",
        "payoffs = [-lottery_ticket_cost, grand_prize-lottery_ticket_cost]\n",
        "probs = [1-chance_of_winning, chance_of_winning]\n",
        "\n",
        "outcomes = np.random.choice(a=payoffs, size=size, p=probs, replace=True)\n",
        "\n",
        "# Mean of outcomes.\n",
        "answer = outcomes.mean()\n",
        "print(\"Average payoff from {} simulations = {}\".format(size, answer))"
      ],
      "metadata": {
        "colab": {
          "base_uri": "https://localhost:8080/"
        },
        "id": "yRxMfZWKnxVQ",
        "outputId": "b697bc37-c88c-42a0-8bfb-bca48fb77a60"
      },
      "execution_count": 17,
      "outputs": [
        {
          "output_type": "stream",
          "name": "stdout",
          "text": [
            "Average payoff from 2000 simulations = -10.0\n"
          ]
        }
      ]
    },
    {
      "cell_type": "markdown",
      "source": [
        " Is it worth spending $10 on the ticket for this average payoff?\n",
        "\n",
        " ### ***Calculating a break-even lottery price***\n",
        "\n",
        "Simulations allow us to ask more nuanced questions that might not necessarily have an easy analytical solution. Rather than solving a complex mathematical formula, we directly get multiple sample outcomes. We can run experiments by modifying inputs and studying how those changes impact the system. For example, once we have a moderately reasonable model of global weather patterns, we could evaluate the impact of increased greenhouse gas emissions.\n",
        "\n",
        "In the lottery example, we might want to know how expensive the ticket needs to be for it to not make sense to buy it. To understand this, we need to modify the ticket cost to see when the expected payoff is negative.\n",
        "\n",
        "`grand_prize`, `num_tickets`, and `chance_of_winning` are loaded in the environment.\n",
        "\n",
        "* Set `sims` to `3000` and the `lottery_ticket_cost` variable to `0`.\n",
        "\n",
        "* If the mean value of outcomes falls below `0`, break out of the `while` loop.\n",
        "  * Else, increment `lottery_ticket_cost` by `1`."
      ],
      "metadata": {
        "id": "Xoky3XrKr5EF"
      }
    },
    {
      "cell_type": "code",
      "source": [
        "import numpy as np \n",
        "\n",
        "np.random.seed(333)\n",
        "\n",
        "grand_prize, num_tickets, chance_of_winning = 10000, 1000, 0.001\n",
        "\n",
        "# Initialize simulations and cost of ticket\n",
        "sims, lottery_ticket_cost = 3000, 0\n",
        "\n",
        "# Use a while loop to increment `lottery_ticket_cost` till average value of outcomes falls below zero\n",
        "while 1:\n",
        "    outcomes = np.random.choice([-lottery_ticket_cost, grand_prize-lottery_ticket_cost],\n",
        "                 size=sims, p=[1-chance_of_winning, chance_of_winning], replace=True)\n",
        "    print(f'outcomes.mean() = {outcomes.mean():.2f}, lottery_ticket_cost = {lottery_ticket_cost}')\n",
        "    if outcomes.mean() < 0:\n",
        "        break\n",
        "    else:\n",
        "        lottery_ticket_cost += 1\n",
        "answer = lottery_ticket_cost - 1\n",
        "\n",
        "print(\"The highest price at which it makes sense to buy the ticket is {}\".format(answer))"
      ],
      "metadata": {
        "colab": {
          "base_uri": "https://localhost:8080/"
        },
        "id": "Z06ciYuTnhBd",
        "outputId": "8c0b618e-a9d0-4a1d-d4a8-8c03457f3f84"
      },
      "execution_count": 22,
      "outputs": [
        {
          "output_type": "stream",
          "name": "stdout",
          "text": [
            "outcomes.mean() = 13.33, lottery_ticket_cost = 0\n",
            "outcomes.mean() = 9.00, lottery_ticket_cost = 1\n",
            "outcomes.mean() = 18.00, lottery_ticket_cost = 2\n",
            "outcomes.mean() = 7.00, lottery_ticket_cost = 3\n",
            "outcomes.mean() = 22.67, lottery_ticket_cost = 4\n",
            "outcomes.mean() = 11.67, lottery_ticket_cost = 5\n",
            "outcomes.mean() = 4.00, lottery_ticket_cost = 6\n",
            "outcomes.mean() = 6.33, lottery_ticket_cost = 7\n",
            "outcomes.mean() = 2.00, lottery_ticket_cost = 8\n",
            "outcomes.mean() = 7.67, lottery_ticket_cost = 9\n",
            "outcomes.mean() = -10.00, lottery_ticket_cost = 10\n",
            "The highest price at which it makes sense to buy the ticket is 9\n"
          ]
        }
      ]
    },
    {
      "cell_type": "markdown",
      "source": [
        "### ***Two of a kind***\n",
        "\n",
        "Now let's use simulation to estimate probabilities. Suppose you've been invited to a game of poker at your friend's home. In this variation of the game, you are dealt five cards and the player with the better hand wins. You will use a simulation to estimate the probabilities of getting certain hands. Let's work on estimating the probability of getting at least two of a kind. Two of a kind is when you get two cards of different suites but having the same numeric value (e.g., 2 of hearts, 2 of spades, and 3 other cards).\n",
        "\n",
        "By the end of this exercise, you will know how to use simulation to calculate probabilities for card games.\n",
        "\n",
        "* **Deal the hand**: In the `for` loop, shuffle `deck_of_cards`. We then select the first 5 cards as our hand.\n",
        "\n",
        "* **Count numeric values**: Utilize the `get()` method to construct the dictionary `cards_in_hand` which counts the occurrence of each `numeric_value` in hand.\n",
        "\n",
        "* **Two of a kind?** Check if the largest value in `cards_in_hand` is equal to or greater than 2 to see if we have at least two of a kind. If yes, we increment `two_kind`."
      ],
      "metadata": {
        "id": "Qlh4PLJb_-gv"
      }
    },
    {
      "cell_type": "code",
      "source": [
        "import numpy as np\n",
        "\n",
        "# Shuffle deck & count card occurrences in the hand\n",
        "n_sims, two_kind = 10000, 0\n",
        "for i in range(n_sims):\n",
        "    np.random.shuffle(deck_of_cards)\n",
        "    hand, cards_in_hand = deck_of_cards[0:5], {}\n",
        "    for [suite, numeric_value] in hand:\n",
        "        # Count occurrences of each numeric value\n",
        "        cards_in_hand[numeric_value] = cards_in_hand.get(numeric_value, 0) + 1\n",
        "    \n",
        "    # Condition for getting at least 2 of a kind\n",
        "    if max(cards_in_hand.values()) >=2: \n",
        "        two_kind += 1\n",
        "\n",
        "print(\"Probability of seeing at least two of a kind = {} \".format(two_kind/n_sims))"
      ],
      "metadata": {
        "colab": {
          "base_uri": "https://localhost:8080/"
        },
        "id": "tCDdEOXwtAKV",
        "outputId": "91390dab-e54e-4880-9afa-f112687d8103"
      },
      "execution_count": 23,
      "outputs": [
        {
          "output_type": "stream",
          "name": "stdout",
          "text": [
            "Probability of seeing at least two of a kind = 0.4958 \n"
          ]
        }
      ]
    },
    {
      "cell_type": "markdown",
      "source": [
        "### ***Game of thirteen***\n",
        "\n",
        "You have a deck of 13 cards, each numbered from 1 through 13. Shuffle this deck and draw cards one by one. A coincidence is when the number on the card matches the order in which the card is drawn. For instance, if the 5th card you draw happens to be a 5, it's a coincidence. You win the game if you get through all the cards without any coincidences. Let's calculate the probability of winning at this game using simulation.\n",
        "\n",
        "By completing this exercise, you will further strengthen your ability to cast abstract problems into the simulation framework for estimating probabilities.\n",
        "\n",
        "* For each drawing, draw all the cards in deck without replacement and assign to `draw`.\n",
        "\n",
        "* Check if there are any coincidences in the `draw` and, if there are, increment the `coincidences` counter by 1.\n",
        "\n",
        "* Calculate winning probability as the fraction of games without any coincidences and use `prob_of_winning` to print your results."
      ],
      "metadata": {
        "id": "52rkkCIeC1Co"
      }
    },
    {
      "cell_type": "code",
      "source": [
        "import numpy as np\n",
        "\n",
        "# Pre-set constant variables\n",
        "deck, sims, coincidences = np.arange(1, 14), 10000, 0\n",
        "\n",
        "for _ in range(sims):\n",
        "    # Draw all the cards without replacement to simulate one game\n",
        "    draw = np.random.choice(deck, size=13, replace=False)\n",
        "    # Check if there are any coincidences\n",
        "    coincidence = (draw == list(np.arange(1, 14))).any()\n",
        "    if coincidence == True: \n",
        "        coincidences += 1\n",
        "\n",
        "# Calculate probability of winning\n",
        "prob_of_winning = 1 - coincidences / sims\n",
        "print(\"Probability of winning = {}\".format(prob_of_winning))"
      ],
      "metadata": {
        "colab": {
          "base_uri": "https://localhost:8080/"
        },
        "id": "mC-_dWgACxDy",
        "outputId": "d1908774-e266-4c56-90e6-9849f1d346bf"
      },
      "execution_count": 27,
      "outputs": [
        {
          "output_type": "stream",
          "name": "stdout",
          "text": [
            "Probability of winning = 0.37160000000000004\n"
          ]
        }
      ]
    },
    {
      "cell_type": "markdown",
      "source": [
        "### ***The conditional urn***\n",
        "\n",
        "We have an urn that contains 7 white and 6 black balls. Four balls are drawn at random. We'd like to know the probability that the first and third balls are white, while the second and the fourth balls are black.\n",
        "\n",
        "* Initialize the counter `success` to `0` and `sims` to `5000`.\n",
        "\n",
        "* Define a list, `urn`, with `7` white balls (`'w'`) and `6` black balls (`'b'`).\n",
        "* Draw 4 balls without replacement and check to see if the first and third are white and second and fourth are black.\n",
        "\n",
        "* Increment `success` if the above criterion is met."
      ],
      "metadata": {
        "id": "YagOMGHoHn9Y"
      }
    },
    {
      "cell_type": "code",
      "source": [
        "# Initialize success, sims and urn\n",
        "success, sims = 0, 5000\n",
        "urn = ['w', 'w', 'w', 'w', 'w', 'w', 'w', 'b', 'b', 'b', 'b', 'b', 'b']\n",
        "\n",
        "for _ in range(sims):\n",
        "    # Draw 4 balls without replacement\n",
        "    draw = np.random.choice(urn, replace=False, size=4)\n",
        "    # Count the number of successes\n",
        "    if (draw[0]=='w') & (draw[1]=='b') & (draw[2]=='w') & (draw[3]=='b'): \n",
        "        success +=1\n",
        "\n",
        "print(\"Probability of success = {}\".format(success/sims))"
      ],
      "metadata": {
        "colab": {
          "base_uri": "https://localhost:8080/"
        },
        "id": "2SzpwHDZD-D-",
        "outputId": "befd6986-ff23-48e6-a1d7-2fda8733a06c"
      },
      "execution_count": 28,
      "outputs": [
        {
          "output_type": "stream",
          "name": "stdout",
          "text": [
            "Probability of success = 0.0726\n"
          ]
        }
      ]
    },
    {
      "cell_type": "markdown",
      "source": [
        "### ***Birthday problem***\n",
        "\n",
        "How many people do you need in a room to ensure at least a 50% chance that two of them share the same birthday?\n",
        "\n",
        "With 366 people in a 365-day year, we are 100% sure that at least two have the same birthday, but we only need to be 50% sure. Simulation gives us an elegant way of solving this problem.\n",
        "\n",
        "* Initialize the sample space `days` which is an array from `1` to `365`.\n",
        "\n",
        "* Define a function `birthday_sim()` that takes one input `people` and returns the probability that at least two share the same birthday. Set `size` of `draw` to number of people.\n",
        "\n",
        "* Call `birthday_sim()` in a `while` loop and `break` when the probability is greater than `0.5`."
      ],
      "metadata": {
        "id": "YiA0aLEDJKGk"
      }
    },
    {
      "cell_type": "code",
      "source": [
        "import numpy as np\n",
        "\n",
        "# Draw a sample of birthdays & check if each birthday is unique\n",
        "days = np.arange(1, 366)\n",
        "people = 2\n",
        "\n",
        "def birthday_sim(people):\n",
        "    sims, unique_birthdays = 2000, 0 \n",
        "    for _ in range(sims):\n",
        "        draw = np.random.choice(days, size=people, replace=True)\n",
        "        if len(draw) == len(set(draw)): \n",
        "            unique_birthdays += 1\n",
        "    out = 1 - unique_birthdays / sims\n",
        "    return out\n",
        "\n",
        "# Break out of the loop if probability greater than 0.5\n",
        "while (people > 0):\n",
        "    prop_bds = birthday_sim(people)\n",
        "    if prop_bds > 0.5: \n",
        "        break\n",
        "    people += 1\n",
        "\n",
        "print(\"With {} people, there's a 50% chance that two share a birthday.\".format(people))"
      ],
      "metadata": {
        "colab": {
          "base_uri": "https://localhost:8080/"
        },
        "id": "ok3vpxVTJGHO",
        "outputId": "ee8ba87a-4105-431d-c0c1-d8827c49880a"
      },
      "execution_count": 29,
      "outputs": [
        {
          "output_type": "stream",
          "name": "stdout",
          "text": [
            "With 23 people, there's a 50% chance that two share a birthday.\n"
          ]
        }
      ]
    },
    {
      "cell_type": "markdown",
      "source": [
        "### ***Full house***\n",
        "\n",
        "A full house is when you get two cards of different suits that share the same numeric value and three other cards that have the same numeric value (e.g., 2 of hearts & spades, jacks of clubs, diamonds, & spades).\n",
        "\n",
        "Thus, a full house is the probability of getting exactly three of a kind conditional on getting exactly two of a kind of another value. Using the same code as before, modify the success condition to get the desired output. This exercise will teach you to estimate conditional probabilities in card games and build your foundation in framing abstract problems for simulation.\n",
        "\n",
        "* Shuffle `deck_of_cards`.\n",
        "\n",
        "* Utilize a dictionary with `.get()` to count the number of occurrences of each card in the hand.\n",
        "\n",
        "* Increment the counter `full_house` when there is a full house in the hand (2 of one kind, 3 of the other)."
      ],
      "metadata": {
        "id": "jn8vwVIWKj6C"
      }
    },
    {
      "cell_type": "code",
      "source": [
        "import numpy as np\n",
        "\n",
        "np.random.seed(123)\n",
        "\n",
        "#Shuffle deck & count card occurrences in the hand\n",
        "n_sims, full_house, deck_of_cards = 50000, 0, [('Heart', 0),  ('Heart', 1), ('Heart', 2), ('Heart', 3), ('Heart', 4), ('Heart', 5), ('Heart', 6), ('Heart', 7), ('Heart', 8), ('Heart', 9), ('Heart', 10), ('Heart', 11), ('Heart', 12), ('Club', 0), ('Club', 1), ('Club', 2), ('Club', 3), ('Club', 4), ('Club', 5), ('Club', 6), ('Club', 7), ('Club', 8), ('Club', 9), ('Club', 10), ('Club', 11), ('Club', 12), ('Spade', 0), ('Spade', 1), ('Spade', 2), ('Spade', 3), ('Spade', 4), ('Spade', 5), ('Spade', 6), ('Spade', 7), ('Spade', 8), ('Spade', 9), ('Spade', 10), ('Spade', 11), ('Spade', 12), ('Diamond', 0), ('Diamond', 1), ('Diamond', 2), ('Diamond', 3), ('Diamond', 4), ('Diamond', 5), ('Diamond', 6), ('Diamond', 7), ('Diamond', 8), ('Diamond', 9), ('Diamond', 10), ('Diamond', 11), ('Diamond', 12)]\n",
        "for i in range(n_sims):\n",
        "    np.random.shuffle(deck_of_cards)\n",
        "    hand, cards_in_hand = deck_of_cards[0:5], {}\n",
        "    for card in hand:\n",
        "        # Use .get() method to count occurrences of each card\n",
        "        cards_in_hand[card[1]] = cards_in_hand.get(card[1], 0) + 1\n",
        "        \n",
        "    # Condition for getting full house\n",
        "    condition = (max(cards_in_hand.values()) ==3) & (min(cards_in_hand.values())==2)\n",
        "    if condition: \n",
        "        full_house += 1\n",
        "print(\"Probability of seeing a full house = {}\".format(full_house/n_sims))"
      ],
      "metadata": {
        "colab": {
          "base_uri": "https://localhost:8080/"
        },
        "id": "aBzmwgX3KgIf",
        "outputId": "6d987af0-5337-473d-fcdd-4888c1e3ec1a"
      },
      "execution_count": 33,
      "outputs": [
        {
          "output_type": "stream",
          "name": "stdout",
          "text": [
            "Probability of seeing a full house = 0.0014\n"
          ]
        }
      ]
    },
    {
      "cell_type": "markdown",
      "source": [
        "### ***Driving test***\n",
        "\n",
        "Suppose that you are about to take a driving test. Based on your own practice and based on data you have gathered, you know that the probability of you passing the test is 90% when it's sunny and only 30% when it's raining. Your local weather station forecasts that there's a 40% chance of rain tomorrow. Based on this information, you want to know what is the probability of you passing the driving test tomorrow.\n",
        "\n",
        "This is a simple problem and can be solved analytically. Here, you will learn how to model a simple DGP and see how it can be used for simulation.\n",
        "\n",
        "* Write a function `test_outcome()`.\n",
        "\n",
        "* Set `weather` as `'rain'` or `'sun'` depending on the input argument `p_rain` (the probability of rain).\n",
        "\n",
        "* Set the appropriate probabilities of `'pass'` and `'fail'` in `test_result` using `weather` & the dictionary `p_pass`.\n",
        "\n",
        "* Now let's compute the probability of passing the test.\n",
        "\n",
        "  * First to count the number of times you pass using the collected results in `outcomes`.\n",
        "  * Use this to calculate `pass_outcomes_frac` as fraction of pass outcomes.\n",
        "  * Print `pass_outcomes_frac`.\n",
        "\n"
      ],
      "metadata": {
        "id": "084oHj_BwJhl"
      }
    },
    {
      "cell_type": "code",
      "source": [
        "import numpy as np\n",
        "\n",
        "np.random.seed(222)\n",
        "\n",
        "sims, outcomes, p_rain, p_pass = 1000, [], 0.40, {'sun':0.9, 'rain':0.3}\n",
        "\n",
        "def test_outcome(p_rain):  \n",
        "    # Simulate whether it will rain or not\n",
        "    weather = np.random.choice(['rain', 'sun'], p=[p_rain, 1-p_rain])\n",
        "    # Simulate and return whether you will pass or fail\n",
        "    test_result = np.random.choice(['pass', 'fail'], p=[p_pass[weather], 1-p_pass[weather]])\n",
        "    return test_result\n",
        "\n",
        "for _ in range(sims):\n",
        "    outcomes.append(test_outcome(p_rain))\n",
        "\n",
        "# Calculate fraction of outcomes where you pass\n",
        "pass_outcomes_frac = np.sum(np.array(outcomes) == 'pass')/len(outcomes)\n",
        "print(\"Probability of Passing the driving test = {}\".format(pass_outcomes_frac))"
      ],
      "metadata": {
        "colab": {
          "base_uri": "https://localhost:8080/"
        },
        "id": "ucG4d803L6lr",
        "outputId": "dd1c3d3e-3192-4a91-de0b-a7a77b726de4"
      },
      "execution_count": 1,
      "outputs": [
        {
          "output_type": "stream",
          "name": "stdout",
          "text": [
            "Probability of Passing the driving test = 0.654\n"
          ]
        }
      ]
    },
    {
      "cell_type": "markdown",
      "source": [
        "### ***National elections***\n",
        "\n",
        "* Consider national elections in a country with two political parties - Red and Blue. This country has 50 states and the party that wins the most states wins the elections. You have the probability $p$ of Red winning in each individual state and want to know the probability of Red winning nationally.\n",
        "\n",
        "Let's model the DGP to understand the distribution. Suppose the election outcome in each state follows a binomial distribution with probability  $p$ such that 0 indicates a loss for Red and 1 indicates a win. We then simulate a number of election outcomes. Finally, we can ask rich questions like **what is the probability of Red winning less than 45% of the states?**\n",
        "\n",
        "* Simulate one election using **`np.random.binomial()`** with `p = probs` and `n=1`. Assign it to `election`.\n",
        "\n",
        "* Append the average of Red's wins in `election` to `outcomes`.\n",
        "\n",
        "* Calculate the fraction of `outcomes` where Red won less than 45% of the states. Save it as `prob_red_wins` and use it to print your results."
      ],
      "metadata": {
        "id": "WvrL1tDBzd4f"
      }
    },
    {
      "cell_type": "code",
      "source": [
        "import numpy as np\n",
        "np.random.seed(224)\n",
        "\n",
        "outcomes, sims, probs = [], 1000, np.array([0.52076814, 0.67846401, 0.82731745, 0.64722761, 0.03665174,\n",
        "       0.17835411, 0.75296372, 0.22206157, 0.72778372, 0.28461556,\n",
        "       0.72545221, 0.106571  , 0.09291364, 0.77535718, 0.51440142,\n",
        "       0.89604586, 0.39376099, 0.24910244, 0.92518253, 0.08165597,\n",
        "       0.4212476 , 0.74123879, 0.2479099 , 0.46125805, 0.19584491,\n",
        "       0.24440482, 0.349916  , 0.80224624, 0.80186664, 0.82968251,\n",
        "       0.91178779, 0.51739059, 0.67338858, 0.15675863, 0.37772308,\n",
        "       0.77134621, 0.71727114, 0.92700912, 0.28386132, 0.25502498,\n",
        "       0.30081506, 0.19724585, 0.29129564, 0.56623386, 0.97681039,\n",
        "       0.96263926, 0.0548948 , 0.14092758, 0.54739446, 0.54555576])\n",
        "\n",
        "for _ in range(sims):\n",
        "    # Simulate elections in the 50 states\n",
        "    election = np.random.binomial(p=probs, n=1)\n",
        "    # Get average of Red wins and add to `outcomes`\n",
        "    outcomes.append(election)\n",
        "\n",
        "# Calculate probability of Red winning in less than 45% of the states\n",
        "prob_red_wins = sum([1 for x in outcomes if np.sum(x) < 45/100 * 50]) / len(outcomes)\n",
        "\n",
        "print(\"Probability of Red winning in less than 45% of the states = {}\".format(prob_red_wins))"
      ],
      "metadata": {
        "colab": {
          "base_uri": "https://localhost:8080/"
        },
        "id": "lfUCKd5rzZ__",
        "outputId": "811c9b96-cf9d-42be-b4fc-c5eac4d6687f"
      },
      "execution_count": 4,
      "outputs": [
        {
          "output_type": "stream",
          "name": "stdout",
          "text": [
            "Probability of Red winning in less than 45% of the states = 0.196\n"
          ]
        }
      ]
    },
    {
      "cell_type": "markdown",
      "source": [
        "### ***Fitness goals***\n",
        "\n",
        "On days when you go to the gym, you average around 15k steps, and around 5k steps otherwise. You go to the gym 40% of the time. Let's model the step counts in a day as a Poisson random variable with a mean $\\lambda$ dependent on whether or not you go to the gym.\n",
        "\n",
        "For simplicity, let’s say \n",
        "\n",
        "* you have an 80% chance of losing 1lb and a 20% chance of gaining 1lb when you get more than 10k steps. \n",
        "* The probabilities are reversed when you get less than 8k steps. \n",
        "* Otherwise, there's an even chance of gaining or losing 1lb. \n",
        "\n",
        "Given all this information, find the probability of losing weight in a month.\n",
        "\n",
        "* Simulate `steps` as a Poisson random variable for a given day based on the value of `lam`.\n",
        "\n",
        "* Set `prob` to `[0.2, 0.8]` if `steps > 10000` or to `[0.8, 0.2]` if `steps < 8000`. Sum up all the weight lost or gained in a month stored in `w`.\n",
        "\n",
        "* Calculate and print the fraction of simulations where total weight for a month in `outcomes` is less than 0. Save as `weight_loss_outcomes_frac` and use that to print your results."
      ],
      "metadata": {
        "id": "GAO96XDM5jeL"
      }
    },
    {
      "cell_type": "code",
      "source": [
        "import numpy as np\n",
        "np.random.seed(222)\n",
        "outcomes = []\n",
        "# Simulate steps & choose prob \n",
        "for _ in range(1000):\n",
        "    w = []\n",
        "    for i in range(30):\n",
        "        lam = np.random.choice([5000, 15000], p=[0.6, 0.4], size=1)\n",
        "        steps = np.random.poisson(lam)\n",
        "        if steps > 10000: \n",
        "            prob = [0.2, 0.8]\n",
        "        elif steps < 8000: \n",
        "            prob = [0.8, 0.2]\n",
        "        else:\n",
        "            prob = [0.5, 0.5]\n",
        "        w.append(np.random.choice([1, -1], p=prob))\n",
        "    outcomes.append(sum(w))\n",
        "\n",
        "# Calculate fraction of outcomes where there was a weight loss\n",
        "weight_loss_outcomes_frac = np.sum(np.array(outcomes) < 0) / len(outcomes)\n",
        "print(\"Probability of Weight Loss = {}\".format(weight_loss_outcomes_frac))"
      ],
      "metadata": {
        "colab": {
          "base_uri": "https://localhost:8080/"
        },
        "id": "L38QM8wk5KNg",
        "outputId": "d5d7932e-9d43-4e06-a528-9ee3f5317e3e"
      },
      "execution_count": 1,
      "outputs": [
        {
          "output_type": "stream",
          "name": "stdout",
          "text": [
            "Probability of Weight Loss = 0.215\n"
          ]
        }
      ]
    },
    {
      "cell_type": "markdown",
      "source": [
        "### ***Sign up Flow***\n",
        "\n",
        "We will now model the DGP of an eCommerce ad flow starting with sign-ups.\n",
        "\n",
        "On any day, we get many ad impressions, which can be modeled as Poisson random variables (RV). You are told that $\\lambda$ is normally distributed with a mean of 100k visitors and standard deviation 2000.\n",
        "\n",
        "During the signup journey, the customer sees an ad, decides whether or not to click, and then whether or not to signup. Thus both clicks and signups are binary, modeled using binomial RVs. What about probability  of success? Our current low-cost option gives us a click-through rate of 1% and a sign-up rate of 20%. A higher cost option could increase the clickthrough and signup rate by up to 20%, but we are unsure of the level of improvement, so we model it as a uniform RV.\n",
        "\n",
        "* Initialize `ct_rate` and `su_rate` dictionaries such that the `high` values are uniformly distributed between the `low` value and  $1.2\\times$ `low` value.\n",
        "\n",
        "* Model `impressions` as a Poisson random variable with a mean value `lam`.\n",
        "\n",
        "* Model `clicks` and `signups` as binomial random variables with `n` as `impressions` and `clicks` and `p` as `ct_rate[cost]` and `su_rate[cost]`, respectively.\n",
        "\n",
        "* We then print the simulated signups for the `'high'` cost option."
      ],
      "metadata": {
        "id": "5n9wjpnIMhbZ"
      }
    },
    {
      "cell_type": "code",
      "source": [
        "import numpy as np\n",
        "np.random.seed(123)\n",
        "\n",
        "# Initialize click-through rate and signup rate dictionaries\n",
        "# Low-cost option gives us a click-through rate of 1%\n",
        "ct_rate = {'low':0.01, 'high':np.random.uniform(low=0.01, high=1.2*0.01)}\n",
        "# Low-cost option gives a sign-up rate of 20%\n",
        "su_rate = {'low':0.2, 'high': np.random.uniform(low=0.2, high=1.2*0.2)}\n",
        "\n",
        "def get_signups(cost, ct_rate, su_rate, sims):\n",
        "    lam = np.random.normal(loc=100000, scale=2000, size=sims)\n",
        "    # Simulate impressions(poisson), clicks(binomial) and signups(binomial)\n",
        "    impressions = np.random.poisson(lam)\n",
        "    clicks = np.random.binomial(n=impressions, p=ct_rate[cost])\n",
        "    signups = np.random.binomial(n=clicks, p=su_rate[cost])\n",
        "    return signups\n",
        "\n",
        "print(\"Simulated Signups = {}\".format(get_signups('high', ct_rate, su_rate, 1)[0]))"
      ],
      "metadata": {
        "colab": {
          "base_uri": "https://localhost:8080/"
        },
        "id": "8uoqseL-8fGC",
        "outputId": "f009d931-33fa-4dce-ca44-2fa8c218bdd1"
      },
      "execution_count": 3,
      "outputs": [
        {
          "output_type": "stream",
          "name": "stdout",
          "text": [
            "Simulated Signups = 268\n"
          ]
        }
      ]
    },
    {
      "cell_type": "markdown",
      "source": [
        "### ***Purchase Flow***\n",
        "\n",
        "After signups, let's model the revenue generation process. Once the customer has signed up, they decide whether or not to purchase - a natural candidate for a binomial RV. Let's assume that 10% of signups result in a purchase.\n",
        "\n",
        "Although customers can make many purchases, let's assume one purchase. The purchase value could be modeled by any continuous RV, but one nice candidate is the exponential RV. Suppose we know that purchase value per customer has averaged around $1000. We use this information to create the `purchase_values` RV. The revenue, then, is simply the sum of all purchase values.\n",
        "\n",
        "The variables `ct_rate`, `su_rate` and the function `get_signups()` from the last exercise are pre-loaded for you.\n",
        "\n",
        "* Model purchases as a binomial RV with `p=0.1`.\n",
        "\n",
        "* Model `purchase_values` as an exponential RV `scale=1000` and the appropriate `size`.\n",
        "\n",
        "* Append `rev` with the sum of `purchase_values`."
      ],
      "metadata": {
        "id": "1Qu3U_BCSgJc"
      }
    },
    {
      "cell_type": "code",
      "source": [
        "def get_revenue(signups):\n",
        "    rev = []\n",
        "    np.random.seed(123)\n",
        "    for s in signups:\n",
        "        # Model purchases as binomial, purchase_values as exponential\n",
        "        purchases = np.random.binomial(s, p=0.1)\n",
        "        purchase_values = np.random.exponential(scale=1000, size=purchases)\n",
        "        \n",
        "        # Append to revenue the sum of all purchase values.\n",
        "        rev.append(np.sum(purchase_values))\n",
        "    return rev\n",
        "\n",
        "print(\"Simulated Revenue = ${:,.2f}\".format(get_revenue(get_signups('low', ct_rate, su_rate, 1))[0]))"
      ],
      "metadata": {
        "colab": {
          "base_uri": "https://localhost:8080/"
        },
        "id": "S2KklY9sRiOG",
        "outputId": "f89337d7-c09b-48af-9521-84471d83f0fe"
      },
      "execution_count": 5,
      "outputs": [
        {
          "output_type": "stream",
          "name": "stdout",
          "text": [
            "Simulated Revenue = $22,404.22\n"
          ]
        }
      ]
    },
    {
      "cell_type": "markdown",
      "source": [
        "### ***Probability of losing money***\n",
        "\n",
        "As seen earlier, this company has the option of spending extra money, let's say $3000, to redesign the ad. This could potentially get them higher clickthrough and signup rates, but this is not guaranteed. We would like to know whether or not to spend this extra $3000 by calculating the probability of losing money. In other words, the probability that the revenue from the high-cost option minus the revenue from the low-cost option is lesser than the cost.\n",
        "\n",
        "Once we have simulated revenue outcomes, we can ask a rich set of questions that might not have been accessible using traditional analytical methods.\n",
        "\n",
        "This simple yet powerful framework forms the basis of Bayesian methods for getting probabilities.\n",
        "\n",
        "* Initialize `cost_diff`, the difference between the `'high'` and `'low'` cost options, to `3000`.\n",
        "\n",
        "* Get the revenue for the high-cost option and assign it to `rev_high`.\n",
        "\n",
        "* Calculate the fraction of times when `rev_high - rev_low` is less than `cost_diff`. Call it `frac` and use it to print your results.\n"
      ],
      "metadata": {
        "id": "HTf8TFDZUQWs"
      }
    },
    {
      "cell_type": "code",
      "source": [
        "# Initialize cost_diff\n",
        "sims, cost_diff = 10000, 3000\n",
        "\n",
        "# Get revenue when the cost is 'low' and when the cost is 'high'\n",
        "rev_low = get_revenue(get_signups('low', ct_rate, su_rate, sims))\n",
        "rev_high = get_revenue(get_signups('high', ct_rate, su_rate, sims))\n",
        "\n",
        "# calculate fraction of times rev_high - rev_low is less than cost_diff\n",
        "frac = np.sum((np.array(rev_high)-np.array(rev_low))<cost_diff) / sims\n",
        "print(\"Probability of losing money = {}\".format(frac))"
      ],
      "metadata": {
        "colab": {
          "base_uri": "https://localhost:8080/"
        },
        "id": "nRxBjSCsUHoa",
        "outputId": "5f03c076-c1ce-4353-839b-1fe6a9b12799"
      },
      "execution_count": 7,
      "outputs": [
        {
          "output_type": "stream",
          "name": "stdout",
          "text": [
            "Probability of losing money = 0.4609\n"
          ]
        }
      ]
    },
    {
      "cell_type": "markdown",
      "source": [
        "### ***Probability example***\n",
        "\n",
        "In this exercise, we will review the difference between sampling with and without replacement. We will calculate the probability of an event using simulation, but vary our sampling method to see how it impacts probability.\n",
        "\n",
        "Consider a bowl filled with colored candies - three blue, two green, and five yellow. Draw three candies, one at a time, with replacement and without replacement. You want to calculate the probability that **all three candies are yellow**.\n",
        "\n",
        "\n",
        "* Set up your bowl as a list having three blue `'b'`, two green `'g'` and five yellow `'y'` candies.\n",
        "\n",
        "* Draw a sample of three candies with replacement (`sample_rep`) and without replacement (`sample_no_rep`).\n",
        "\n",
        "* For the sample with replacement, if there are no `'b'` or `'g'` candies in `sample_rep`, increment `success_rep`. Similarly, increment `success_no_rep` when there are no `'b'` or `'g'` candies in `sample_no_rep`.\n",
        "\n",
        "* Calculate the respective probabilities as successes divided by number of iterations."
      ],
      "metadata": {
        "id": "lN10y5XuagBj"
      }
    },
    {
      "cell_type": "code",
      "source": [
        "import numpy as np \n",
        "\n",
        "# Set up the bowl\n",
        "success_rep, success_no_rep, sims = 0, 0, 10000\n",
        "bowl = list('b'*3 + 'g'*2 + 'y'*5)\n",
        "\n",
        "for i in range(sims):\n",
        "    # Sample with and without replacement & increment success counters\n",
        "    sample_rep = np.random.choice(bowl, size=3, replace=True)\n",
        "    sample_no_rep = np.random.choice(bowl, size=3, replace=False)\n",
        "    if ('b' not in sample_rep) & ('g' not in sample_rep) : \n",
        "        success_rep += 1\n",
        "    if ('b' not in sample_no_rep) & ('g' not in sample_no_rep) : \n",
        "        success_no_rep += 1\n",
        "\n",
        "# Calculate probabilities\n",
        "prob_with_replacement = success_rep/sims\n",
        "prob_without_replacement = success_no_rep/sims\n",
        "print(\"Probability with replacement = {}, without replacement = {}\".format(prob_with_replacement, prob_without_replacement))"
      ],
      "metadata": {
        "colab": {
          "base_uri": "https://localhost:8080/"
        },
        "id": "hj-ezfsMVyVi",
        "outputId": "e92ef22d-1f41-41c6-fc9f-b53b72d8fc1d"
      },
      "execution_count": 8,
      "outputs": [
        {
          "output_type": "stream",
          "name": "stdout",
          "text": [
            "Probability with replacement = 0.124, without replacement = 0.0853\n"
          ]
        }
      ]
    },
    {
      "cell_type": "markdown",
      "source": [
        "### ***Running a simple bootstrap***\n",
        "\n",
        "The main idea behind bootstrapping is sampling with replacement.\n",
        "\n",
        "Suppose you own a factory that produces wrenches. You want to be able to characterize the average length of the wrenches and ensure that they meet some specifications. Your factory produces thousands of wrenches every day, but it's infeasible to measure the length of each wrench. However, you have access to a &***representative*** sample of 100 wrenches. Let's use bootstrapping to get the 95% confidence interval (CI) for the average lengths.\n",
        "\n",
        "Examine the list `wrench_lengths`, which has 100 observed lengths of wrenches, in the shell.\n",
        "\n",
        "* Draw a random sample with replacement from `wrench_lengths` and store it in `temp_sample`. Set `size = len(wrench_lengths)`.\n",
        "\n",
        "* Calculate the mean length of each sample, assign it to `sample_mean`, and then append it to `mean_lengths`.\n",
        "\n",
        "* Calculate the bootstrapped mean (`boot_mean`) and bootstrapped 95% confidence interval (`boot_95_ci`) by using `np.percentile()`."
      ],
      "metadata": {
        "id": "ED4OJfDed-xF"
      }
    },
    {
      "cell_type": "code",
      "source": [
        "import numpy as np\n",
        "\n",
        "wrench_lengths = np.array([ 8.9143694 , 10.99734545, 10.2829785 ,  8.49370529,  9.42139975,\n",
        "       11.65143654,  7.57332076,  9.57108737, 11.26593626,  9.1332596 ,\n",
        "        9.32111385,  9.90529103, 11.49138963,  9.361098  ,  9.55601804,\n",
        "        9.56564872, 12.20593008, 12.18678609, 11.0040539 , 10.3861864 ,\n",
        "       10.73736858, 11.49073203,  9.06416613, 11.17582904,  8.74611933,\n",
        "        9.3622485 , 10.9071052 ,  8.5713193 ,  9.85993128,  9.1382451 ,\n",
        "        9.74438063,  7.20141089,  8.2284669 ,  9.30012277, 10.92746243,\n",
        "        9.82636432, 10.00284592, 10.68822271,  9.12046366, 10.28362732,\n",
        "        9.19463348,  8.27233051,  9.60910021, 10.57380586, 10.33858905,\n",
        "        9.98816951, 12.39236527, 10.41291216, 10.97873601, 12.23814334,\n",
        "        8.70591468,  8.96121179, 11.74371223,  9.20193726, 10.02968323,\n",
        "       11.06931597, 10.89070639, 11.75488618, 11.49564414, 11.06939267,\n",
        "        9.22729129, 10.79486267, 10.31427199,  8.67373454, 11.41729905,\n",
        "       10.80723653, 10.04549008,  9.76690794,  8.80169886, 10.19952407,\n",
        "       10.46843912,  9.16884502, 11.16220405,  8.90279695,  7.87689965,\n",
        "       11.03972709,  9.59663396,  9.87397041,  9.16248328,  8.39403724,\n",
        "       11.25523737,  9.31113102, 11.66095249, 10.80730819,  9.68524185,\n",
        "        8.9140976 ,  9.26753801,  8.78747687, 12.08711336, 10.16444123,\n",
        "       11.15020554,  8.73264795, 10.18103513, 11.17786194,  9.66498924,\n",
        "       11.03111446,  8.91543209,  8.63652846, 10.37940061,  9.62082357])\n",
        "\n",
        "# Draw some random sample with replacement and append mean to mean_lengths.\n",
        "mean_lengths, sims = [], 1000\n",
        "for i in range(sims):\n",
        "    temp_sample = np.random.choice(wrench_lengths, replace=True, size=len(wrench_lengths))\n",
        "    sample_mean = np.mean(temp_sample)\n",
        "    mean_lengths.append(sample_mean)\n",
        "    \n",
        "# Calculate bootstrapped mean and 95% confidence interval.\n",
        "boot_mean = np.mean(mean_lengths)\n",
        "boot_95_ci = np.percentile(mean_lengths, [2.5, 97.5])\n",
        "print(\"Bootstrapped Mean Length = {}, 95% CI = {}\".format(boot_mean, boot_95_ci))"
      ],
      "metadata": {
        "colab": {
          "base_uri": "https://localhost:8080/"
        },
        "id": "uOSKrNgyd72T",
        "outputId": "9d7a1596-dcc5-471e-cf9f-5b1d9c30023e"
      },
      "execution_count": 10,
      "outputs": [
        {
          "output_type": "stream",
          "name": "stdout",
          "text": [
            "Bootstrapped Mean Length = 10.027827488375198, 95% CI = [ 9.80555807 10.25130695]\n"
          ]
        }
      ]
    },
    {
      "cell_type": "markdown",
      "source": [
        "### ***Non-standard estimators***\n",
        "\n",
        "Suppose you are studying the health of students. You are given the height and weight of 1000 students and are interested in the median height as well as the correlation between height and weight and the associated 95% CI for these quantities. Let's use bootstrapping.\n",
        "\n",
        "Examine the pandas DataFrame `df` with the heights and weights of 1000 students. Using this, calculate the 95% CI for both the median height as well as the correlation between height and weight.\n",
        "\n",
        "* Use the `.sample()` method on `df` to generate a sample of the data with replacement and assign it to `tmp_df`.\n",
        "\n",
        "* For each generated dataset in `tmp_df`, calculate the median heights and correlation between heights and weights using `.median()` and `.corr()`.\n",
        "\n",
        "* Append the median heights to `height_medians` and correlation to `hw_corr`.\n",
        "\n",
        "* Finally calculate the 95% `([2.5, 97.5])` confidence intervals for each of the above quantities using `np.percentile()`."
      ],
      "metadata": {
        "id": "2MV24KZRggEX"
      }
    },
    {
      "cell_type": "code",
      "source": [
        "import numpy as np\n",
        "import pandas as pd\n",
        "\n",
        "np.random.seed(123)\n",
        "\n",
        "df = pd.read_csv('wrench.csv').drop(columns='Unnamed: 0')\n",
        "\n",
        "# Sample with replacement and calculate quantities of interest\n",
        "sims, data_size, height_medians, hw_corr = 1000, df.shape[0], [], []\n",
        "for i in range(sims):\n",
        "    tmp_df = df.sample(n=data_size, replace=True)\n",
        "    height_medians.append(tmp_df['heights'].median())\n",
        "    hw_corr.append(tmp_df.corr().values[0,1])\n",
        "\n",
        "# Calculate confidence intervals\n",
        "height_median_ci = np.percentile(height_medians, [2.5, 97.5])\n",
        "height_weight_corr_ci = np.percentile(hw_corr, [2.5, 97.5])\n",
        "print(\"Height Median CI = {} \\nHeight Weight Correlation CI = {}\".format( height_median_ci, height_weight_corr_ci))"
      ],
      "metadata": {
        "colab": {
          "base_uri": "https://localhost:8080/"
        },
        "id": "QorgpsDSgT08",
        "outputId": "1ee6c7a0-34ba-4812-c9b9-5ff94553ffcd"
      },
      "execution_count": 14,
      "outputs": [
        {
          "output_type": "stream",
          "name": "stdout",
          "text": [
            "Height Median CI = [5.426901   5.72076577] \n",
            "Height Weight Correlation CI = [0.92904184 0.94450841]\n"
          ]
        }
      ]
    },
    {
      "cell_type": "markdown",
      "source": [
        "### ***Bootstrapping regression***\n",
        "\n",
        "Now let's see how bootstrapping works with regression. Bootstrapping helps estimate the uncertainty of non-standard estimators. Consider the  $R^2$ statistic associated with a regression. When you run a simple least squares regression, you get a value for $R^2$. But let's see how can we get a 95% CI for $R^2$.\n",
        "\n",
        "Examine the DataFrame `df` with a dependent variable  and two independent variables `X1` and `X2` using `df.head()`. We've already fit this regression with `statsmodels (sm)` using:\n",
        "\n",
        "```\n",
        "reg_fit = sm.OLS(df['y'], df.iloc[:,1:]).fit()\n",
        "```\n",
        "\n",
        "Examine the result using `reg_fit.summary()` to find that $R^2=0.3504$. Use bootstrapping to calculate the 95% CI.\n",
        "\n",
        "* Draw a bootstrap sample from the original dataset using the `sample()` method of a pandas DataFrame. The number of rows should be the same as that of the original DataFrame.\n",
        "\n",
        "* Fit a regression similar to `reg_fit()` using `sm.OLS()` and extract the  statistic using the parameter `rsquared`.\n",
        "\n",
        "* Append the  to the list `rsquared_boot`.\n",
        "\n",
        "* Calculate 95% CI for `rsquared_boot` as `r_sq_95_ci` using `np.percentile()`."
      ],
      "metadata": {
        "id": "2YTp7lwEkAtT"
      }
    },
    {
      "cell_type": "code",
      "source": [
        "import numpy as np\n",
        "import pandas as pd\n",
        "import statsmodels.api as sm\n",
        "\n",
        "np.random.seed(123)\n",
        "df = pd.read_csv('OLS.csv').drop(columns='Unnamed: 0')\n",
        "\n",
        "rsquared_boot, coefs_boot, sims = [], [], 1000\n",
        "reg_fit = sm.OLS(df['y'], df.iloc[:,1:]).fit()\n",
        "\n",
        "# Run 1K iterations\n",
        "for i in range(sims):\n",
        "    # First create a bootstrap sample with replacement with n=df.shape[0]\n",
        "    bootstrap = df.sample(n=len(df), replace=True)\n",
        "    # Fit the regression and append the r square to rsquared_boot\n",
        "    rsquared_boot.append(sm.OLS(bootstrap['y'], bootstrap.iloc[:,1:]).fit().rsquared)\n",
        "\n",
        "# Calculate 95% CI on rsquared_boot\n",
        "r_sq_95_ci = np.percentile(rsquared_boot, [2.5, 97.5])\n",
        "print(\"R Squared 95% CI = {}\".format(r_sq_95_ci))"
      ],
      "metadata": {
        "colab": {
          "base_uri": "https://localhost:8080/"
        },
        "id": "CFrHr6JQje1e",
        "outputId": "8cb5cc82-fa45-4f61-8f22-8bd8f475d65e"
      },
      "execution_count": 22,
      "outputs": [
        {
          "output_type": "stream",
          "name": "stdout",
          "text": [
            "R Squared 95% CI = [0.31089319 0.40543595]\n"
          ]
        }
      ]
    },
    {
      "cell_type": "markdown",
      "source": [
        "### ***Basic jackknife estimation - mean***\n",
        "\n",
        "You own a wrench factory and want to measure the average length of the wrenches to ensure that they meet some specifications. Your factory produces thousands of wrenches every day, but it's infeasible to measure the length of each wrench. However, you have access to a representative sample of 100 wrenches. Let's use jackknife estimation to get the average lengths.\n",
        "\n",
        "Examine the variable `wrench_lengths` in the shell.\n",
        "\n",
        "* Get a jackknife sample by iteratively leaving one observation out of `wrench_lengths` and assigning it to `jk_sample`.\n",
        "\n",
        "* Calculate the mean of `jk_sample` and append it to `mean_lengths`.\n",
        "\n",
        "* Finally, calculate the jackknife estimate `mean_lengths_jk` as the mean of the `mean_lengths` array."
      ],
      "metadata": {
        "id": "k6iKufdwKXKo"
      }
    },
    {
      "cell_type": "code",
      "source": [
        "import numpy as np\n",
        "\n",
        "\n",
        "wrench_lengths = np.array([ 8.9143694 , 10.99734545, 10.2829785 ,  8.49370529,  9.42139975,\n",
        "       11.65143654,  7.57332076,  9.57108737, 11.26593626,  9.1332596 ,\n",
        "        9.32111385,  9.90529103, 11.49138963,  9.361098  ,  9.55601804,\n",
        "        9.56564872, 12.20593008, 12.18678609, 11.0040539 , 10.3861864 ,\n",
        "       10.73736858, 11.49073203,  9.06416613, 11.17582904,  8.74611933,\n",
        "        9.3622485 , 10.9071052 ,  8.5713193 ,  9.85993128,  9.1382451 ,\n",
        "        9.74438063,  7.20141089,  8.2284669 ,  9.30012277, 10.92746243,\n",
        "        9.82636432, 10.00284592, 10.68822271,  9.12046366, 10.28362732,\n",
        "        9.19463348,  8.27233051,  9.60910021, 10.57380586, 10.33858905,\n",
        "        9.98816951, 12.39236527, 10.41291216, 10.97873601, 12.23814334,\n",
        "        8.70591468,  8.96121179, 11.74371223,  9.20193726, 10.02968323,\n",
        "       11.06931597, 10.89070639, 11.75488618, 11.49564414, 11.06939267,\n",
        "        9.22729129, 10.79486267, 10.31427199,  8.67373454, 11.41729905,\n",
        "       10.80723653, 10.04549008,  9.76690794,  8.80169886, 10.19952407,\n",
        "       10.46843912,  9.16884502, 11.16220405,  8.90279695,  7.87689965,\n",
        "       11.03972709,  9.59663396,  9.87397041,  9.16248328,  8.39403724,\n",
        "       11.25523737,  9.31113102, 11.66095249, 10.80730819,  9.68524185,\n",
        "        8.9140976 ,  9.26753801,  8.78747687, 12.08711336, 10.16444123,\n",
        "       11.15020554,  8.73264795, 10.18103513, 11.17786194,  9.66498924,\n",
        "       11.03111446,  8.91543209,  8.63652846, 10.37940061,  9.62082357])\n",
        "\n",
        "# Leave one observation out from wrench_lengths to get the jackknife sample and store the mean length\n",
        "mean_lengths, n = [], len(wrench_lengths)\n",
        "index = np.arange(n)\n",
        "\n",
        "for i in range(n):\n",
        "    jk_sample = wrench_lengths[index != i]\n",
        "    mean_lengths.append(np.mean(jk_sample))\n",
        "\n",
        "# The jackknife estimate is the mean of the mean lengths from each sample\n",
        "mean_lengths_jk = np.mean(np.array(mean_lengths))\n",
        "print(\"Jackknife estimate of the mean = {}\".format(mean_lengths_jk))"
      ],
      "metadata": {
        "colab": {
          "base_uri": "https://localhost:8080/"
        },
        "id": "gVg-xvgrmEjS",
        "outputId": "779ef517-c8cd-4967-e3c8-7d149b45ac34"
      },
      "execution_count": 2,
      "outputs": [
        {
          "output_type": "stream",
          "name": "stdout",
          "text": [
            "Jackknife estimate of the mean = 10.027109074099998\n"
          ]
        }
      ]
    },
    {
      "cell_type": "markdown",
      "source": [
        "### ***Jackknife confidence interval for the median***\n",
        "\n",
        "Calculate the jackknife 95% CI for a non-standard estimator. Here, we will look at the median. Keep in mind that the variance of a jackknife estimator is `n-1` times the variance of the individual jackknife sample estimates where `n` is the number of observations in the ***original*** sample.\n",
        "\n",
        "Returning to the wrench factory, you are now interested in estimating the median length of the wrenches along with a 95% CI to ensure that the wrenches are within tolerance.\n",
        "\n",
        "Let's revisit the code from the previous exercise, but this time in the context of median lengths. By the end of this exercise, you will have a much better idea of how to use jackknife resampling to calculate confidence intervals for non-standard estimators.\n",
        "\n",
        "* Append the median length of each jackknife sample to `median_lengths`.\n",
        "\n",
        "* Calculate the ***mean*** of the jackknife estimate of `median_length` and assign to `jk_median_length`.\n",
        "\n",
        "* Calculate the upper 95% confidence interval `jk_upper_ci` and lower 95% confidence intervals of the median `jk_lower_ci` using `1.96*np.sqrt(jk_var).`"
      ],
      "metadata": {
        "id": "BUI3IPzlL25R"
      }
    },
    {
      "cell_type": "code",
      "source": [
        "# Leave one observation out to get the jackknife sample and store the median length\n",
        "median_lengths = []\n",
        "for i in range(n):\n",
        "    jk_sample = wrench_lengths[index != i]\n",
        "    median_lengths.append(np.median(jk_sample))\n",
        "\n",
        "median_lengths = np.array(median_lengths)\n",
        "\n",
        "# Calculate jackknife estimate and it's variance\n",
        "jk_median_length = np.mean(median_lengths)\n",
        "jk_var = (n-1)*np.var(median_lengths)\n",
        "\n",
        "# Assuming normality, calculate lower and upper 95% confidence intervals\n",
        "jk_lower_ci = jk_median_length - 1.96*np.sqrt(jk_var)\n",
        "jk_upper_ci = jk_median_length + 1.96*np.sqrt(jk_var)\n",
        "print(\"Jackknife 95% CI lower = {}, upper = {}\".format(jk_lower_ci, jk_upper_ci))"
      ],
      "metadata": {
        "colab": {
          "base_uri": "https://localhost:8080/"
        },
        "id": "3MPNk8uSLci4",
        "outputId": "e65287fb-4ed5-4aa4-db18-4a972268fad2"
      },
      "execution_count": 3,
      "outputs": [
        {
          "output_type": "stream",
          "name": "stdout",
          "text": [
            "Jackknife 95% CI lower = 9.138592415216381, upper = 10.754868124783625\n"
          ]
        }
      ]
    },
    {
      "cell_type": "markdown",
      "source": [
        "### ***Generating a single permutation***\n",
        "\n",
        "We want to see if there's any difference in the donations generated by the two designs - A and B. Suppose that you have been running both the versions for a few days and have generated 500 donations on A and 700 donations on B, stored in the variables `donations_A` and `donations_B`.\n",
        "\n",
        "We first need to generate a null distribution for the difference in means. We will achieve this by generating multiple permutations of the dataset and calculating the difference in means for each case.\n",
        "\n",
        "First, let's generate one permutation and calculate the difference in means for the permuted dataset.\n",
        "\n",
        "* Concatenate the two arrays `donations_A` and `donations_B` using `np.concatenate()` and assign to data.\n",
        "\n",
        "* Get a single permutation using **`np.random.permutation()`** and assign it to `perm`.\n",
        "\n",
        "* Calculate the difference in the mean values of `permuted_A` and `permuted_B` as `diff_in_means`."
      ],
      "metadata": {
        "id": "X0A8-RYcOomL"
      }
    },
    {
      "cell_type": "code",
      "source": [
        "donations_A = np.array([7.15363286e+00, 2.02240490e+00, 1.54370448e+00, 4.80860209e+00,\n",
        "       7.62642561e+00, 3.30058521e+00, 2.37058924e+01, 6.92785364e+00,\n",
        "       3.93432116e+00, 2.98664221e+00, 2.52205350e+00, 7.83491938e+00,\n",
        "       3.46363306e+00, 3.69196795e-01, 3.04542810e+00, 8.03635944e+00,\n",
        "       1.20896556e+00, 1.15751776e+00, 4.54997304e+00, 4.55351188e+00,\n",
        "       6.03730837e+00, 1.13600346e+01, 7.73403302e+00, 5.66541826e+00,\n",
        "       7.69038204e+00, 2.34013992e+00, 2.69451474e+00, 1.55467056e+00,\n",
        "       2.08641054e+00, 5.98136359e+00, 5.79758878e-01, 3.41180026e+00,\n",
        "       3.38180211e+00, 4.08357880e+00, 3.32898159e+00, 2.24607719e+00,\n",
        "       3.33442862e+00, 1.34314207e+01, 1.73115909e+01, 4.18096377e+00,\n",
        "       5.86824609e+00, 7.37199778e-01, 2.29007093e+00, 3.21507841e+00,\n",
        "       1.20733518e+01, 1.72973646e+00, 3.95867209e+00, 2.54264298e+01,\n",
        "       4.39738249e+00, 5.69434848e+00, 7.71288120e-01, 1.05039631e+01,\n",
        "       5.54382280e+00, 4.72564402e+00, 2.51827118e+00, 2.17547509e+00,\n",
        "       3.23763715e+00, 6.86104476e+00, 1.24986178e+01, 4.28527304e+00,\n",
        "       6.63951203e+00, 5.29041637e+00, 5.88343175e+00, 6.73784273e+00,\n",
        "       1.10839795e+01, 5.21162799e-01, 8.65548290e+00, 1.67563618e+00,\n",
        "       1.29568920e+00, 5.09820187e+00, 6.03647739e-01, 1.29940150e+01,\n",
        "       5.92106741e+00, 7.71145201e+00, 9.75641890e-02, 5.41479857e+00,\n",
        "       4.88220440e+00, 1.03869381e+00, 9.96827044e-01, 7.13508703e+00,\n",
        "       2.30310027e+00, 7.06535435e+00, 4.84977600e+00, 2.95546458e+00,\n",
        "       1.55522115e+01, 1.10584428e+01, 2.65337427e+00, 2.67420709e-01,\n",
        "       2.18105869e+00, 3.04683794e+00, 7.32384225e+00, 3.22362829e+01,\n",
        "       2.63954619e+00, 8.62673398e+00, 5.39626123e+00, 7.06012667e+00,\n",
        "       9.83077347e-01, 3.05372718e+00, 1.65338197e+00, 2.52459352e+00,\n",
        "       4.31852605e+00, 6.59091568e+00, 6.71682860e-01, 8.41747654e-01,\n",
        "       2.33147632e+00, 6.50052761e+00, 1.12445716e+01, 4.83463539e+00,\n",
        "       1.15635162e+01, 2.91521595e+00, 2.28569953e+00, 2.62419344e+00,\n",
        "       1.12580302e+00, 1.06005037e+01, 2.48102160e+00, 4.82273069e+00,\n",
        "       5.18434570e+00, 4.42300896e+00, 1.61501034e-02, 2.67123359e+01,\n",
        "       1.41448824e+01, 1.39640533e+00, 2.07601611e+00, 4.40394197e+00,\n",
        "       1.39313031e+01, 2.46741537e+01, 1.78673437e+00, 4.98562121e+00,\n",
        "       9.86941707e+00, 3.00891678e+00, 7.87989267e+00, 1.05376100e+00,\n",
        "       5.50823207e+00, 1.20534269e+01, 2.46342324e+01, 4.96154929e-01,\n",
        "       3.35534157e+00, 1.37302986e+00, 3.59396956e+00, 4.76130100e+00,\n",
        "       5.87838622e-01, 2.11320218e+00, 1.57519880e+01, 5.04993508e+00,\n",
        "       3.66842994e+00, 8.40299238e+00, 8.12556925e+00, 2.98791942e-01,\n",
        "       7.40035604e+00, 1.09671812e+01, 1.08868440e+00, 9.11204480e+00,\n",
        "       2.02574498e+00, 2.19576255e+00, 6.56643327e+00, 7.08595672e-01,\n",
        "       6.55946442e+00, 1.31278715e+01, 7.15051206e+00, 3.48242496e+00,\n",
        "       3.45980981e+00, 8.69147259e+00, 5.00331722e+00, 5.32358877e-01,\n",
        "       5.24328366e+00, 1.01193298e+01, 2.46648252e+00, 1.57513533e+01,\n",
        "       8.33499890e+00, 5.12079461e+00, 8.35735220e+00, 4.94741963e-01,\n",
        "       1.17705516e+01, 1.03391383e+01, 1.44391237e+01, 8.26139805e-01,\n",
        "       5.11910163e-01, 8.93893365e-01, 3.05874406e+00, 3.31308303e+00,\n",
        "       4.95621045e+00, 7.82316691e-01, 1.34936676e+00, 1.00165400e+01,\n",
        "       3.78653060e+00, 9.89962880e+00, 4.47245483e-02, 4.81232019e+00,\n",
        "       1.61235015e+01, 5.23616216e+00, 1.38475433e+00, 7.58993321e+00,\n",
        "       2.85840847e+00, 6.62266468e+00, 1.78548820e-01, 6.06196626e+00,\n",
        "       1.96366145e-01, 8.19379157e+00, 3.84233798e+00, 7.78973683e-01,\n",
        "       4.69365326e+00, 4.14650118e-01, 6.35689533e+00, 3.32596743e+01,\n",
        "       8.80235474e+00, 5.11671494e+00, 6.49757260e-01, 7.22051924e+00,\n",
        "       6.49350287e+00, 3.02060141e-01, 9.42994312e+00, 4.38779385e+00,\n",
        "       3.32937247e+00, 9.31231373e+00, 3.18177591e+00, 3.93541215e+00,\n",
        "       1.20263585e+00, 2.32562353e+00, 1.12066487e+01, 1.24143472e+00,\n",
        "       3.24040478e+00, 2.70780118e+01, 1.61983735e+00, 1.49213797e+01,\n",
        "       1.50353699e+01, 5.74417482e-01, 3.73784056e+00, 4.18553823e+00,\n",
        "       2.25837113e+00, 2.90980328e-01, 1.65994352e+00, 6.02434475e-01,\n",
        "       1.63282042e+00, 9.89503444e+00, 1.35215290e+01, 2.65108930e-01,\n",
        "       2.15676008e+00, 2.36493902e+01, 4.65271737e+00, 5.90596197e+00,\n",
        "       3.33650476e-02, 3.98047533e+00, 2.67036496e+01, 2.82180310e+00,\n",
        "       6.12449905e-01, 3.71836287e+00, 1.97817485e+01, 2.50975773e+00,\n",
        "       9.62439620e+00, 9.62211685e+00, 1.40104465e+00, 3.51510242e+00,\n",
        "       7.54426839e+00, 3.17108474e+00, 1.27178976e+00, 2.05580402e+01,\n",
        "       6.31180998e+00, 1.20353557e+01, 1.53398466e-01, 1.86288656e+00,\n",
        "       4.18378790e+00, 4.18986276e-01, 2.97996482e+01, 1.61875742e+00,\n",
        "       2.81323057e+00, 1.44488187e+00, 6.68579156e-01, 1.58754277e+00,\n",
        "       2.14528168e+00, 6.03798635e+00, 1.98132308e+00, 2.69910531e+00,\n",
        "       3.57634362e-02, 2.73158042e+00, 4.57995000e+00, 1.06053646e+00,\n",
        "       5.45936403e+00, 2.08164175e+00, 5.99885739e+00, 1.59275095e-01,\n",
        "       1.31137990e+01, 9.74996914e-02, 8.14629899e-01, 9.00787380e+00,\n",
        "       2.81890764e-01, 7.44794442e+00, 2.12523106e+01, 1.23195060e+01,\n",
        "       7.43059158e+00, 1.90937799e+01, 3.37074897e+00, 1.23756913e+01,\n",
        "       2.63994493e+00, 1.59353360e+01, 9.66491466e-01, 1.68833665e+01,\n",
        "       1.07283809e+01, 1.12269530e+01, 7.93807822e-01, 5.44527793e+00,\n",
        "       9.91699451e-02, 7.66322715e+00, 4.66056240e-02, 5.31822002e-01,\n",
        "       1.53321340e+00, 1.24826299e+01, 2.71134462e+00, 4.65865018e+00,\n",
        "       5.03741184e+00, 1.53294188e+00, 5.09385035e+00, 6.48967790e+00,\n",
        "       2.12502900e+00, 3.25417493e+00, 3.62081435e+00, 1.61605062e+01,\n",
        "       5.31302349e+00, 1.77682601e+01, 4.87205396e+00, 4.16562392e+00,\n",
        "       2.12307837e-02, 3.93382578e+00, 1.57412892e+01, 1.32661648e+00,\n",
        "       3.20981488e-01, 3.13312853e+00, 2.79507990e+00, 1.16758893e+01,\n",
        "       1.61829606e-01, 1.51655745e+01, 6.85356086e+00, 1.40745838e+01,\n",
        "       5.61175686e+00, 1.00263901e+01, 2.45271857e+00, 2.58069478e+00,\n",
        "       2.96454098e+00, 8.43401504e+00, 2.76546583e+00, 1.66417151e+00,\n",
        "       1.66517164e+01, 1.43165231e+01, 2.57360606e+00, 6.04120097e+00,\n",
        "       1.91992769e+00, 1.38490096e+00, 2.45990759e+00, 2.37695034e+00,\n",
        "       1.28364794e+01, 1.03660801e+01, 7.41945592e+00, 1.92158339e+01,\n",
        "       3.29473146e+00, 1.68648774e+00, 7.49288469e-01, 2.14908525e+00,\n",
        "       9.41773910e-01, 5.80295247e-01, 5.54188934e+00, 2.71710895e+00,\n",
        "       4.98853210e+00, 1.27422858e+00, 6.77886925e+00, 1.45629390e+00,\n",
        "       1.95457691e+00, 8.12320517e+00, 4.92231023e+00, 2.44633364e+00,\n",
        "       4.69828406e+00, 7.10472113e+00, 1.45915258e+01, 5.21520083e+00,\n",
        "       1.58915801e+00, 8.23902821e+00, 9.02422786e+00, 1.34187193e+00,\n",
        "       1.03079618e+01, 3.75220064e+00, 9.07840601e+00, 1.62674524e+00,\n",
        "       2.42601690e+00, 1.84353066e+01, 6.43442380e+00, 8.89360329e+00,\n",
        "       6.99571578e+00, 1.37122934e+00, 3.81707186e+00, 9.93175632e+00,\n",
        "       6.74422911e+00, 3.62767602e-02, 5.48796568e-01, 2.55518301e+00,\n",
        "       1.73337149e+01, 4.05408935e+00, 1.88971342e+00, 2.68169630e+00,\n",
        "       1.41929271e+00, 3.28079030e+00, 1.47567515e+00, 1.12151812e+01,\n",
        "       3.65582148e+00, 1.96937478e+00, 1.62086806e+01, 2.26433976e+00,\n",
        "       1.44286812e+01, 2.66333158e-01, 7.36785267e+00, 3.96860098e+00,\n",
        "       3.52430794e+00, 2.21996761e-01, 2.49203428e-01, 2.42757547e+00,\n",
        "       1.76383283e+01, 5.76866972e+00, 2.76150652e+00, 5.68014458e+00,\n",
        "       1.38502497e+00, 1.08241878e+00, 2.69478371e+00, 1.19421414e+01,\n",
        "       4.27277801e+00, 2.11354984e+00, 1.80046649e+01, 1.01558115e+01,\n",
        "       2.34027311e+00, 2.14743942e+01, 2.62211091e+01, 3.15218614e+00,\n",
        "       6.40134065e+00, 3.12175373e+00, 1.78516715e+00, 5.17614704e-01,\n",
        "       1.83597528e+00, 1.90043999e+00, 3.05135995e+00, 1.22656402e+00,\n",
        "       1.84510434e+01, 6.51393113e-01, 5.88831298e+00, 3.49712489e+00,\n",
        "       3.30486749e+00, 2.79121217e+00, 1.21640422e+01, 1.97500056e+00,\n",
        "       1.24744775e-01, 1.50133191e+01, 1.19918286e+01, 1.94526138e+00,\n",
        "       4.44756855e+00, 6.93059059e-01, 5.88502790e-01, 1.09012124e+01,\n",
        "       3.16849927e+00, 6.50322658e+00, 1.72093727e+01, 1.68726308e+00,\n",
        "       7.94831348e-02, 1.46668555e-01, 7.41454977e+00, 1.55058604e+01,\n",
        "       3.77912218e+00, 2.82106969e+00, 4.69659911e+00, 1.17504345e+01,\n",
        "       6.33597038e+00, 1.59145361e+00, 8.93874514e+00, 8.67474288e-01,\n",
        "       1.08596642e+00, 5.69105969e+00, 1.63702407e+00, 7.32017711e+00,\n",
        "       2.58025478e+00, 1.94959571e+00, 4.09759162e+01, 2.48783982e-01,\n",
        "       6.22774284e+00, 2.36809873e-01, 8.56795689e+00, 1.56888959e+00,\n",
        "       5.64755610e-01, 6.27241507e+00, 7.91408500e+00, 6.80099872e+00,\n",
        "       3.19777776e-01, 2.09144942e+00, 3.59890663e+00, 2.03051241e+00,\n",
        "       9.98062360e+00, 8.43267717e-01, 5.68327391e+00, 2.66455378e+01,\n",
        "       1.39708977e+01, 1.50738393e+00, 4.91345800e-04, 2.36540713e+01,\n",
        "       1.28587874e+01, 1.51149367e+01, 3.22202744e+00, 8.18990927e+00])\n",
        "\n",
        "donations_B = np.array([1.19656474e+00, 2.49040320e+00, 9.53746976e+00, 6.82606285e-01,\n",
        "       1.12152344e+01, 3.43093700e+00, 2.77646272e+00, 1.82386960e+00,\n",
        "       1.24354723e+01, 3.64515134e+00, 8.14887581e+00, 9.74739510e+00,\n",
        "       1.27798024e+01, 1.80758132e+00, 2.07614450e+00, 4.52025320e+00,\n",
        "       2.91092911e+00, 1.35035758e+01, 2.53386965e+00, 3.24831293e+00,\n",
        "       4.80103139e+00, 2.59378065e+00, 2.44499059e+01, 5.20424895e-01,\n",
        "       1.24617571e+00, 1.94787364e+00, 7.99217521e-01, 1.67190676e+00,\n",
        "       7.55351558e+00, 3.70006200e+00, 1.72717251e-01, 2.02629196e+01,\n",
        "       4.78564798e+00, 3.03739127e-01, 5.41126574e+00, 2.37704603e+00,\n",
        "       7.29022267e-01, 4.14672025e+00, 6.49288193e+00, 5.56041209e+00,\n",
        "       1.42185881e+00, 3.72079438e+00, 3.85731089e+00, 6.30806898e+00,\n",
        "       2.23039928e+00, 7.99082335e+00, 4.94325682e+00, 1.95427968e-01,\n",
        "       3.95356876e+00, 9.89932403e+00, 4.19172221e+00, 9.66881775e-01,\n",
        "       3.57059143e+00, 7.07235483e+00, 5.83260107e-01, 8.49405343e+00,\n",
        "       9.16500024e-01, 3.81866902e+00, 2.43671329e+00, 1.42924389e+00,\n",
        "       5.21256611e+00, 1.90545622e-01, 7.13653618e+00, 3.74267199e+00,\n",
        "       1.04281517e+01, 3.67733398e+00, 1.78307749e-01, 7.75094268e-01,\n",
        "       7.93849435e+00, 3.38613342e+00, 2.91589990e+00, 1.91681667e+00,\n",
        "       1.67421222e+00, 1.68902829e+01, 2.83670943e+00, 1.07709562e+01,\n",
        "       5.22293814e+00, 9.77472179e+00, 9.56792546e+00, 1.56534123e+01,\n",
        "       5.98568505e+00, 8.18396681e+00, 6.60492872e+00, 4.64721974e+00,\n",
        "       6.31780261e+00, 6.28951297e+00, 2.08840298e-01, 3.62949699e+00,\n",
        "       7.86676827e+00, 1.39171038e+00, 3.12882590e+00, 2.85452129e+00,\n",
        "       2.57740864e+00, 6.49629659e-01, 3.72969790e+00, 2.95519503e+00,\n",
        "       5.44419240e+00, 3.98602116e+00, 1.39646740e-01, 1.62192359e-01,\n",
        "       6.04257889e+00, 6.14783990e+00, 1.60867766e+01, 1.04658642e+01,\n",
        "       3.15611976e+00, 4.91624772e+00, 3.05490344e+00, 1.26122869e+00,\n",
        "       2.36345216e+00, 5.48428348e-01, 5.49096867e+00, 1.06615264e+00,\n",
        "       3.22624219e+00, 1.71228321e+01, 1.60906182e-01, 8.22781194e-01,\n",
        "       1.77323632e+00, 1.42199480e+01, 1.19757939e+01, 8.83690909e-01,\n",
        "       1.98476709e+01, 6.94644470e+00, 3.88239486e+00, 1.34194386e+01,\n",
        "       1.06266795e+01, 2.48228419e+00, 5.34055891e+00, 5.21189441e+00,\n",
        "       1.97981339e+00, 9.88537628e-01, 3.14438608e+00, 1.52774392e+00,\n",
        "       2.19302969e+00, 1.54112427e+01, 3.09147765e+00, 5.77419073e+00,\n",
        "       2.04909708e+00, 2.74366001e+01, 5.37595763e+00, 1.09083892e+00,\n",
        "       5.16723847e-01, 1.43393848e+01, 1.44819541e+01, 4.85542938e+00,\n",
        "       8.56875560e-02, 1.27791331e+00, 8.07921149e+00, 1.04156348e+01,\n",
        "       3.02558824e+00, 2.27475244e+00, 1.60257623e+00, 6.21983428e-01,\n",
        "       6.15046358e-01, 1.52459499e+01, 8.26763125e+00, 9.00296751e-01,\n",
        "       1.15997587e+00, 5.32905419e+00, 7.23370957e+00, 8.31194831e+00,\n",
        "       8.91673722e-01, 2.07160844e+01, 1.29257185e+00, 4.45086681e+00,\n",
        "       4.42899866e+00, 1.71113726e+01, 5.35986313e+00, 4.39623051e+00,\n",
        "       3.65707656e+00, 7.23356770e+00, 5.60556592e-01, 1.04704613e-02,\n",
        "       1.52339562e+01, 3.45233068e+00, 1.98998069e+00, 2.29475080e+00,\n",
        "       8.14420766e+00, 2.40933025e+00, 7.35205890e+00, 2.90321920e+00,\n",
        "       9.29197976e+00, 3.96320401e-01, 3.28049343e+00, 3.14475962e+00,\n",
        "       1.53485442e+00, 1.43777379e+01, 1.17708899e+01, 2.93130586e+00,\n",
        "       5.11047459e-01, 1.15829319e+00, 1.58378224e+00, 3.31037261e+00,\n",
        "       2.06529770e+00, 7.43911270e+00, 3.23157187e+00, 1.02153747e+01,\n",
        "       2.73416748e+01, 1.24125530e+00, 4.72951666e+00, 9.40302917e+00,\n",
        "       1.45236691e+01, 1.71306021e+00, 6.49220034e+00, 7.56501614e-02,\n",
        "       1.05657130e+01, 3.30370760e-01, 6.60994306e+00, 2.61164084e+01,\n",
        "       3.47764789e+00, 1.17439819e+00, 4.51494278e+00, 4.89282549e+00,\n",
        "       5.51419711e+00, 9.47406084e-01, 1.14489709e+01, 4.85098149e+00,\n",
        "       2.22731609e-01, 5.76071513e+00, 1.09130275e+00, 1.38607479e-01,\n",
        "       4.00314166e+00, 8.39162641e+00, 9.82846288e+00, 5.46401636e-01,\n",
        "       5.43899659e+00, 6.19066892e+00, 1.74436298e+00, 1.77654528e+01,\n",
        "       1.63341384e+00, 3.62757709e-01, 3.66235525e+00, 5.92599873e+00,\n",
        "       1.40293509e+00, 2.06684785e+00, 4.14630075e+00, 1.08876171e+01,\n",
        "       6.87827393e+00, 1.17602980e+00, 1.45027156e+00, 3.71043402e+00,\n",
        "       7.32579387e+00, 4.82165423e+00, 3.47899613e+00, 4.54564891e+00,\n",
        "       7.05416552e+00, 3.85100290e+00, 1.14018066e+01, 1.46936879e+01,\n",
        "       1.23464171e+01, 7.02266520e+00, 1.41394368e+00, 2.43287242e+00,\n",
        "       1.64252000e+00, 5.35975794e+00, 1.95945052e+00, 7.02008451e+00,\n",
        "       6.02421971e-01, 7.46638680e+00, 4.40826278e+00, 9.02084132e+00,\n",
        "       2.81828166e+00, 4.90367233e+00, 4.04180408e+00, 1.85804859e+01,\n",
        "       7.04217618e+00, 3.93523752e+00, 9.55996784e-01, 1.17229878e+01,\n",
        "       1.15233767e+00, 5.24972861e+00, 1.37813611e+01, 1.26530596e+00,\n",
        "       1.28042313e+00, 9.54660087e+00, 8.79128574e+00, 2.16703449e+00,\n",
        "       1.54007897e+00, 6.81324038e-01, 2.20876901e+01, 9.01945685e+00,\n",
        "       1.14825979e+01, 3.60443525e+00, 6.07363853e-01, 2.70065678e-01,\n",
        "       2.00673377e+00, 1.26493381e+01, 1.47425105e+01, 9.19941105e+00,\n",
        "       8.63910869e-01, 2.72297360e+00, 1.41342568e+00, 1.14926615e+00,\n",
        "       5.77314968e+00, 3.32874645e+00, 1.96454369e+00, 5.27994178e-01,\n",
        "       3.93468966e+00, 2.13108335e+00, 2.48047170e+00, 1.85900630e+00,\n",
        "       2.44854418e+00, 4.05807258e+00, 7.12239124e-02, 9.40777525e+00,\n",
        "       1.27500978e+01, 3.99842740e+00, 1.56001807e+00, 2.31468022e+01,\n",
        "       2.41600389e+00, 5.91522324e+00, 5.85514960e+00, 2.84853700e+00,\n",
        "       1.11045901e+00, 1.69929104e+01, 3.29047893e-01, 3.31939247e+00,\n",
        "       1.24699303e+00, 1.74051701e+00, 8.81665669e+00, 2.28852238e+00,\n",
        "       4.35138357e-01, 1.09270209e+00, 9.84391818e+00, 1.88675810e+01,\n",
        "       1.55975197e+00, 5.62594656e+00, 4.23428585e-01, 6.42710012e+00,\n",
        "       2.69301100e+00, 1.25149408e+01, 1.86646248e+00, 1.41908227e+01,\n",
        "       3.49831609e+00, 2.14540586e+00, 5.20671367e+00, 1.43671867e+00,\n",
        "       1.30528897e+00, 1.09293502e+00, 1.60818403e+01, 3.39537064e+00,\n",
        "       6.96387584e+00, 3.21219316e+00, 4.42808218e+00, 4.38702082e+00,\n",
        "       1.95317725e+01, 5.51962876e+00, 1.37066782e+00, 7.65716357e-02,\n",
        "       1.23386610e+00, 3.03961706e+00, 2.49959605e+00, 8.36525070e+00,\n",
        "       7.69855084e+00, 4.66588654e-01, 1.51838886e+01, 3.74812924e+00,\n",
        "       4.53670405e+00, 2.59644646e+00, 5.24198650e+00, 1.02523778e+01,\n",
        "       5.60330748e+00, 1.75492405e+01, 6.03860325e+00, 8.62202031e+00,\n",
        "       2.30426942e-01, 5.58436779e+00, 5.31747073e+00, 5.36512283e-01,\n",
        "       9.23807883e+00, 4.76182326e+00, 5.17522808e-01, 4.51276660e+00,\n",
        "       3.25442326e+00, 1.32825651e+00, 9.97692556e-02, 2.27512018e+00,\n",
        "       4.83596101e+00, 1.99701112e+00, 1.83546406e+00, 6.95394709e+00,\n",
        "       7.10701039e+00, 6.34283815e+00, 5.33373306e-01, 3.63006659e+00,\n",
        "       4.07994991e+00, 6.82862733e+00, 1.16743908e+01, 2.30255506e+00,\n",
        "       2.79888439e+00, 6.59818092e+00, 5.43297027e+00, 4.08075549e+00,\n",
        "       2.15498879e+00, 1.08675397e+00, 1.01552444e+00, 4.25520297e-01,\n",
        "       4.23438666e-01, 9.34746649e+00, 2.41988603e+00, 3.13312732e-01,\n",
        "       1.13373289e+01, 1.26331545e+00, 1.56072383e+00, 1.08144697e+00,\n",
        "       1.71327390e+01, 5.96959631e-01, 6.40360770e+00, 1.34477674e+01,\n",
        "       5.51312106e+00, 9.78529163e+00, 1.38830956e+00, 5.60318499e+00,\n",
        "       6.03440749e+00, 3.06551479e+00, 1.02221337e+01, 5.92716369e+00,\n",
        "       1.12631586e+01, 6.99597313e+00, 3.67287201e+00, 3.45263524e+00,\n",
        "       3.02318788e+00, 1.09422966e-01, 3.83011003e+00, 2.74933312e+00,\n",
        "       8.57107471e-01, 6.33883845e-01, 2.98329646e+00, 2.03657147e-01,\n",
        "       2.15550044e+01, 2.37504814e+00, 2.40721762e+00, 2.62397886e-01,\n",
        "       2.78148941e+00, 7.93535674e-02, 1.52778707e-01, 2.07075788e+00,\n",
        "       8.60098006e+00, 3.07002667e+00, 7.47590119e-02, 8.90970622e-01,\n",
        "       6.73388234e+00, 6.70266269e+00, 7.02275821e+00, 2.16677245e+00,\n",
        "       2.17146031e+00, 8.09935239e+00, 2.53863453e+00, 6.49491690e+00,\n",
        "       4.35088990e+00, 2.26547046e+00, 4.16943480e-01, 6.17200275e-01,\n",
        "       1.10163567e+01, 3.01050777e+00, 2.55837629e+01, 2.26197349e+00,\n",
        "       1.43810574e+00, 2.15806492e+00, 2.10101157e+00, 5.07167830e+00,\n",
        "       6.40969098e-02, 7.20414636e+00, 2.69282261e+00, 2.83027532e+00,\n",
        "       3.28036515e+00, 2.98203057e+00, 3.44050864e+00, 2.12250812e+00,\n",
        "       3.01969734e+00, 2.59304027e+00, 3.65157428e+00, 4.88112050e+00,\n",
        "       1.37903502e+00, 3.55082736e+00, 4.51467557e+00, 8.54679048e-02,\n",
        "       3.67499163e+00, 1.36753669e+00, 2.59209312e+00, 8.75875771e+00,\n",
        "       1.97437390e+00, 3.30066037e+00, 1.25261799e-01, 1.84627498e+00,\n",
        "       5.10438403e+00, 1.89286318e+00, 1.15208410e+00, 1.71707114e+00,\n",
        "       1.54368597e+01, 4.54011799e-01, 3.11211816e+00, 3.00804073e-01,\n",
        "       3.86808084e+00, 7.89329663e-01, 5.02676840e+00, 1.53532668e+00,\n",
        "       5.87070109e+00, 2.13200925e+00, 2.08860049e-02, 1.74704069e+00,\n",
        "       4.27214524e-01, 3.41637666e+00, 1.70464123e+00, 5.10814331e+00,\n",
        "       3.46509542e+00, 1.83552565e-01, 1.91827763e+00, 3.35750764e+00,\n",
        "       4.24554232e+00, 5.53938827e-01, 5.24870050e+00, 2.10566870e+00,\n",
        "       1.01009927e+00, 8.18216225e+00, 3.55457791e-01, 1.32798881e+01,\n",
        "       6.12540614e+00, 3.22741702e+00, 5.61181745e-02, 2.47250885e+00,\n",
        "       5.18944537e+00, 9.79189626e+00, 4.80858522e+00, 2.53505970e+00,\n",
        "       2.96523687e+00, 1.03294815e+01, 2.16436634e+00, 3.36886593e-01,\n",
        "       2.92301171e+00, 3.23770275e+01, 2.38834759e+00, 1.07249708e+00,\n",
        "       2.30901082e-01, 9.37487942e-01, 1.95828740e+00, 4.26984758e+00,\n",
        "       5.47691378e+00, 2.18813468e-01, 1.37584514e+01, 1.34357116e+00,\n",
        "       8.07080088e-01, 3.78394448e+00, 5.65959142e+00, 1.83545061e+00,\n",
        "       5.53485390e+00, 1.74278175e+00, 1.16226977e+01, 1.06303492e+01,\n",
        "       3.69278971e-01, 8.14962974e-01, 5.98761303e+00, 6.00543509e-04,\n",
        "       8.62462585e+00, 2.20214501e+00, 6.82501117e+00, 2.26227605e-01,\n",
        "       1.17395832e+00, 3.67184262e-01, 9.91180389e-01, 2.42596184e+00,\n",
        "       3.38195979e+00, 1.23901335e+01, 4.93321755e+00, 6.12904433e+00,\n",
        "       4.28392292e-01, 1.68987645e+00, 2.39767605e+01, 4.10970395e+00,\n",
        "       7.75154106e+00, 1.65108656e-01, 4.39110605e-01, 5.78363060e-01,\n",
        "       7.70193861e-02, 1.27538843e+01, 1.46270453e+00, 2.83747087e+01,\n",
        "       6.69953255e+00, 1.44248396e+00, 2.40209331e+01, 1.01450297e+01,\n",
        "       9.01605827e-01, 1.02481113e+00, 5.70008072e+00, 4.07570278e-01,\n",
        "       4.39166252e+00, 3.44622894e-01, 1.25063171e+00, 1.48250410e+01,\n",
        "       3.45147264e+00, 4.26321190e+00, 1.57138486e+00, 2.89964291e+00,\n",
        "       7.13595387e-01, 3.63472276e+00, 2.77329902e-01, 2.47261101e-01,\n",
        "       5.69167037e+00, 2.82754459e-01, 3.68323718e+00, 1.54641173e+00,\n",
        "       1.03939046e+00, 4.25859180e+00, 1.75817616e+00, 3.04754587e+00,\n",
        "       7.48151951e-01, 6.76153827e-01, 5.63206643e-01, 3.71248209e-01,\n",
        "       4.03397323e+00, 7.05304780e+00, 7.85991283e+00, 1.58319871e+01,\n",
        "       9.21972681e-01, 7.28707909e-01, 3.17396477e+00, 9.86667744e+00,\n",
        "       7.28507091e+00, 4.08424219e+00, 8.52656276e-01, 2.48184126e+00,\n",
        "       6.35315945e+00, 2.33733572e+00, 1.99525358e-01, 4.38395559e+00,\n",
        "       6.36723217e+00, 6.27232318e+00, 9.00814473e-01, 2.04730232e+00,\n",
        "       2.63115415e+00, 2.72778771e+00, 6.06086132e-01, 2.43498831e+00,\n",
        "       3.53250156e+00, 6.19904790e+00, 4.21343225e+00, 2.59538588e+00,\n",
        "       1.31275628e+01, 4.55755545e+00, 1.84027480e+01, 1.01011995e+01,\n",
        "       5.59855814e+00, 1.14787175e+01, 2.36876132e+01, 1.24793347e+00,\n",
        "       5.87298466e+00, 1.25529243e+01, 8.77666105e-02, 8.03443077e+00,\n",
        "       4.68273978e-01, 1.24177956e+01, 4.73392204e+00, 8.84100221e-01,\n",
        "       2.01038872e-01, 8.79611728e+00, 7.51161489e-01, 1.40289801e+01,\n",
        "       4.76309817e-01, 9.10013068e+00, 2.75418195e+00, 1.03074324e+01,\n",
        "       7.31748078e+00, 9.58261106e+00, 3.17667577e+00, 6.25476857e+00,\n",
        "       1.91852488e+00, 2.41611024e-01, 1.32243330e+00, 6.81283489e-03,\n",
        "       2.25514913e+00, 3.40440200e+00, 9.79893882e-02, 3.87992255e-02,\n",
        "       5.79919858e+00, 5.29224509e-01, 3.83571092e-01, 3.42191029e+00,\n",
        "       6.33206648e+00, 1.88973564e+01, 1.75060591e+00, 6.25084288e-01,\n",
        "       3.54991820e-01, 1.16288135e+00, 5.27106238e-01, 1.69505065e-02,\n",
        "       1.67787904e+00, 8.96870825e-01, 9.20924290e-02, 2.18967278e+00,\n",
        "       8.74108057e+00, 1.80959704e+00, 6.19109167e+00, 6.52329442e+00,\n",
        "       1.29443515e-01, 1.63226493e+01, 7.48358420e-01, 6.31976402e+00,\n",
        "       2.38569017e+00, 1.01332035e+01, 2.64527664e+01, 1.07415949e+00])"
      ],
      "metadata": {
        "id": "g1tcUpDyNO22"
      },
      "execution_count": 5,
      "outputs": []
    },
    {
      "cell_type": "code",
      "source": [
        "import numpy as np\n",
        "\n",
        "# Concatenate the two arrays donations_A and donations_B into data\n",
        "len_A, len_B = len(donations_A), len(donations_B)\n",
        "data = np.concatenate([donations_A, donations_B])\n",
        "\n",
        "# Get a single permutation of the concatenated length\n",
        "perm = np.random.permutation(len(donations_A) + len(donations_B))\n",
        "\n",
        "# Calculate the permutated datasets and difference in means\n",
        "permuted_A = data[perm[:len(donations_A)]]\n",
        "permuted_B = data[perm[len(donations_A):]]\n",
        "diff_in_means = np.mean(permuted_A) - np.mean(permuted_B)\n",
        "print(\"Difference in the permuted mean values = {}.\".format(diff_in_means))"
      ],
      "metadata": {
        "colab": {
          "base_uri": "https://localhost:8080/"
        },
        "id": "Tl5RmgfaPKVK",
        "outputId": "96418614-b243-493c-fedc-ed10d56f6343"
      },
      "execution_count": 6,
      "outputs": [
        {
          "output_type": "stream",
          "name": "stdout",
          "text": [
            "Difference in the permuted mean values = -0.2176146015397471.\n"
          ]
        }
      ]
    },
    {
      "cell_type": "markdown",
      "source": [
        "### ***Hypothesis testing - Difference of means***\n",
        "\n",
        "We want to test the hypothesis that there is a difference in the average donations received from A and B. Previously, you learned how to generate one permutation of the data. Now, we will generate a null distribution of the difference in means and then calculate the p-value.\n",
        "\n",
        "For the null distribution, we first generate multiple permuted datasets and store the difference in means for each case. We then calculate the test statistic as the difference in means with the original dataset. Finally, we approximate the p-value by calculating twice the fraction of cases where the difference is greater than or equal to the absolute value of the test statistic (2-sided hypothesis). A p-value of less than say 0.05 could then determine statistical significance.\n",
        "\n",
        "* Generate multiple permutations of `donations_A` & `donations_B` & assign it to `perm`.\n",
        "\n",
        "* Set samples equal to the difference in means of `permuted_A_datasets` & `permuted_B_datasets`. We set `axis=1` to have a mean for each dataset instead of an overall mean.\n",
        "\n",
        "* Set `test_stat` equal to the difference in means of `donations_A` & `donations_B`.\n",
        "\n",
        "* Calculate p-value p_val as twice the fraction of samples greater than or equal to the absolute value of `test_stat`."
      ],
      "metadata": {
        "id": "D0BGbfgnP0Uf"
      }
    },
    {
      "cell_type": "code",
      "source": [
        "reps = 1000\n",
        "\n",
        "# Generate permutations equal to the number of repetitions\n",
        "# perm คือการจัดเรียงลำดับตัวเลขใหม่\n",
        "perm = np.array([np.random.permutation(len(donations_A) + len(donations_B)) for i in range(reps)])\n",
        "permuted_A_datasets = data[perm[:, :len(donations_A)]] # เป็นเมตริกซ์สองมิติ\n",
        "permuted_B_datasets = data[perm[:, len(donations_A):]]\n",
        "\n",
        "# Calculate the difference in means for each of the datasets\n",
        "samples = np.mean(permuted_A_datasets, axis=1) - np.mean(permuted_B_datasets, axis=1)\n",
        "\n",
        "# Calculate the test statistic and p-value\n",
        "test_stat = np.mean(donations_A) - np.mean(donations_B)\n",
        "p_val = 2*np.sum(samples >= np.abs(test_stat))/reps\n",
        "print(\"p-value = {}\".format(p_val))"
      ],
      "metadata": {
        "colab": {
          "base_uri": "https://localhost:8080/"
        },
        "id": "4dBL0qJJPwbg",
        "outputId": "35cf295e-50b9-4757-bf20-3a2ff2ae39fa"
      },
      "execution_count": 8,
      "outputs": [
        {
          "output_type": "stream",
          "name": "stdout",
          "text": [
            "p-value = 0.002\n"
          ]
        }
      ]
    },
    {
      "cell_type": "markdown",
      "source": [
        "### ***Hypothesis testing - Non-standard statistics***\n",
        "\n",
        "Suppose that you're interested in understanding the distribution of the donations received from websites A and B. For this, you want to see if there's a statistically significant difference in the median and the 80th percentile of the donations. Permutation testing gives you a wonderfully flexible framework for attacking such problems.\n",
        "\n",
        "Let's go through running a test to see if there's a difference in the median and the 80th percentile of the distribution of donations. As before, you're given the donations from the websites A and B in the variables `donations_A` and `donations_B` respectively.\n",
        "\n",
        "* Set `samples_percentile` and `samples_median` equal to the difference in the 80th percentile and medians of `permuted_A_datasets` and `permuted_B_datasets`, respectively.\n",
        "\n",
        "* Set `test_stat_percentile` equal to the difference in 80th percentile and `test_stat_median` equal to the difference in medians of `donations_A` and `donations_B`. The variables `donations_A` and `donations_B` have been pre-loaded.\n",
        "\n",
        "* Calculate `p_val_median` as `2` $\\times$ fraction of cases where sample median is greater than or equal to the median test statistic. Perform a similar calculation for `p_val_percentile`.\n",
        "\n",
        "\n"
      ],
      "metadata": {
        "id": "gcPYMb_UR8NV"
      }
    },
    {
      "cell_type": "code",
      "source": [
        "# Calculate the difference in 80th percentile and median for each of the permuted datasets (A and B)\n",
        "samples_percentile = np.percentile(permuted_A_datasets, 80, axis=1) - np.percentile(permuted_B_datasets, 80, axis=1)\n",
        "samples_median = np.median(permuted_A_datasets, axis=1) - np.median(permuted_B_datasets, axis=1)\n",
        "\n",
        "# Calculate the test statistic from the original dataset and corresponding p-values\n",
        "test_stat_percentile = np.percentile(donations_A, 80) - np.percentile(donations_B, 80)\n",
        "test_stat_median = np.median(donations_A) - np.median(donations_B)\n",
        "p_val_percentile = 2*np.sum(samples_percentile >= np.abs(test_stat_percentile))/reps\n",
        "p_val_median = 2*np.sum(samples_median >= np.abs(test_stat_median))/reps\n",
        "\n",
        "print(\"80th Percentile: test statistic = {}, p-value = {}\".format(test_stat_percentile, p_val_percentile))\n",
        "print(\"Median: test statistic = {}, p-value = {}\".format(test_stat_median, p_val_median))"
      ],
      "metadata": {
        "colab": {
          "base_uri": "https://localhost:8080/"
        },
        "id": "14ZE6Y49Ryaj",
        "outputId": "cfac1379-435a-430e-bf43-327f856c214f"
      },
      "execution_count": 22,
      "outputs": [
        {
          "output_type": "stream",
          "name": "stdout",
          "text": [
            "80th Percentile: test statistic = 1.6951624520000044, p-value = 0.024\n",
            "Median: test statistic = 0.6434965699999999, p-value = 0.012\n"
          ]
        }
      ]
    },
    {
      "cell_type": "markdown",
      "source": [
        "### ***Modeling Corn Production***\n",
        "\n",
        "Suppose that you manage a small corn farm and are interested in optimizing your costs. We will model the production of corn. We'll abstract away from details like units and focus on the process.\n",
        "\n",
        "For simplicity, let's assume that corn production depends on only two factors: \n",
        "  * rain, which you don't control, and \n",
        "  * cost, which you control. \n",
        "  \n",
        "Rain is normally distributed with mean 50 and standard deviation 15. For now, let's fix cost at 5,000. Let's assume that corn produced in any season is a Poisson random variable and that the average corn production is governed by the equation:\n",
        "\n",
        "$$100\\times(\\text{cost})^{0.1}\\times(\\text{rain})^{0.2}$$\n",
        "\n",
        "Let's model this production function and simulate one outcome.\n",
        "\n",
        "* Initialize `rain` as a ***Normal*** random variable with mean `50` and standard deviation `15`.\n",
        "\n",
        "* In the `corn_produced()` function, model `mean_corn` as $ 100\\times\\text{cost}^{0.1}\\times\\text{rain}^{0.2} $.\n",
        "\n",
        "* Model corn as a Poisson random variable with mean `mean_corn`.\n",
        "\n",
        "* Simulate one outcome by storing the result of calling `corn_produced()` in `corn_result` and print your results.\n"
      ],
      "metadata": {
        "id": "O9yD50ogj7EJ"
      }
    },
    {
      "cell_type": "code",
      "source": [
        "import numpy as np\n",
        "np.random.seed(223)\n",
        "\n",
        "# Initialze variables\n",
        "cost = 5000\n",
        "rain = np.random.normal(loc=50, scale=15)\n",
        "\n",
        "# Corn Production Model\n",
        "def corn_produced(rain, cost):\n",
        "  mean_corn = 100 * cost**0.1 * rain**0.2\n",
        "  corn = np.random.poisson(mean_corn)\n",
        "  return corn\n",
        "\n",
        "# Simulate and print corn production\n",
        "corn_result = corn_produced(rain, cost)\n",
        "print(\"Simulated Corn Production = {}\".format(corn_result))"
      ],
      "metadata": {
        "colab": {
          "base_uri": "https://localhost:8080/"
        },
        "id": "k75rP5SaUR-T",
        "outputId": "8e76c665-360c-4032-8de3-00c9c7ff9875"
      },
      "execution_count": 27,
      "outputs": [
        {
          "output_type": "stream",
          "name": "stdout",
          "text": [
            "Simulated Corn Production = 560\n"
          ]
        }
      ]
    },
    {
      "cell_type": "markdown",
      "source": [
        "### ***Modeling Profits***\n",
        "\n",
        "For a small farm, you typically have no control over the price or demand for corn. Suppose that price is *normally distributed* with *mean 40* and `standard deviation 10`. You are given a function `corn_demanded()`, which takes the price and determines the demand for corn. This is reasonable because demand is usually determined by the market and is not in your control.\n",
        "\n",
        "In this exercise, you will work on a function to calculate the profit by pulling together all the other simulated variables. The only input to this function will be the fixed cost of production. Upon completion, you'll have a function that gives one simulated profit outcome for a given cost. This function can then be used for planning your costs.\n",
        "\n",
        "* Model the `price` as a **normal** random variable with mean `40` and standard deviation `10`.\n",
        "* Get the corn supply by calling the function `corn_produced(rain, cost)`, which you designed in the previous exercise.\n",
        "\n",
        "* Call the `corn_demanded()` function with input `price` to get `demand`.\n",
        "\n",
        "* Profit = (quantity $\\times$ price) - cost. If more corn is produced than demanded (`supply > demand`), then quantity sold will be `demand`, else it will be `supply`."
      ],
      "metadata": {
        "id": "mJZl7Y6mlUdy"
      }
    },
    {
      "cell_type": "code",
      "source": [
        "import numpy as np\n",
        "np.random.seed(223)\n",
        "\n",
        "def corn_demanded(price):\n",
        "    mean_corn = 1000 - 8*price\n",
        "    corn = np.random.poisson(abs(mean_corn))\n",
        "    return corn\n",
        "\n",
        "# Function to calculate profits\n",
        "def profits(cost):\n",
        "    rain = np.random.normal(loc=50, scale=15)\n",
        "    price = np.random.normal(loc=40, scale=10)\n",
        "    supply = corn_produced(rain, cost)\n",
        "    demand = corn_demanded(price)\n",
        "    equil_short = supply <= demand\n",
        "    if equil_short == True:\n",
        "        tmp = supply*price - cost\n",
        "        return tmp\n",
        "    else: \n",
        "        tmp2 = demand*price - cost\n",
        "        return tmp2\n",
        "result = profits(cost)\n",
        "print(\"Simulated profit = {:,.2f}\".format(result))"
      ],
      "metadata": {
        "colab": {
          "base_uri": "https://localhost:8080/"
        },
        "id": "4zT4QnhGlIS6",
        "outputId": "f30ed10a-7835-4013-87e3-f15c4b0c4321"
      },
      "execution_count": 30,
      "outputs": [
        {
          "output_type": "stream",
          "name": "stdout",
          "text": [
            "Simulated profit = 20,675.33\n"
          ]
        }
      ]
    },
    {
      "cell_type": "markdown",
      "source": [
        "### ***Optimizing Costs***\n",
        "\n",
        "Now we will use the functions you've built to optimize our cost of production. We are interested in maximizing average profits. However, our profits depend on a number of factors, while we only control cost. Thus, we can simulate the uncertainty in the other factors and vary cost to see how our profits are impacted.\n",
        "\n",
        "Since you manage the small corn farm, you have the ability to choose your cost - from $100 to $5,000. You want to choose the cost that gives you the maximum average profit. In this exercise, we will simulate multiple outcomes for each cost level and calculate an average. We will then choose the cost that gives us the maximum mean profit. Upon completion, you will have a framework for selecting optimal inputs for business decisions.\n",
        "\n",
        "* Initialize the empty dictionary `results`.\n",
        "\n",
        "* For each cost level, simulate profits using the pre-loaded `profits()` function and append them to `tmp_profits`.\n",
        "\n",
        "* Store the average of `tmp_profits` for each cost level in the `results` dictionary.\n",
        "\n",
        "* Find the cost level `cost_max` that has the maximum average profit by running `results` through the list comprehension."
      ],
      "metadata": {
        "id": "5P9NNCy4nbq6"
      }
    },
    {
      "cell_type": "code",
      "source": [
        "import numpy as np\n",
        "\n",
        "np.random.seed(573)\n",
        "\n",
        "# Initialize results and cost_levels variables\n",
        "sims, results = 1000, {}\n",
        "cost_levels = np.arange(100, 5100, 100)\n",
        "\n",
        "# For each cost level, simulate profits and store mean profit\n",
        "for cost in cost_levels:\n",
        "    tmp_profits = []\n",
        "    for i in range(sims):\n",
        "        tmp_profits.append(profits(cost))\n",
        "    results[cost] = np.mean(tmp_profits)\n",
        "    \n",
        "# Get the cost that maximizes average profit\n",
        "cost_max = [x for x in results.keys() if results[x] == max(results.values())][0]\n",
        "print(\"Average profit is maximized when cost = {}\".format(cost_max))"
      ],
      "metadata": {
        "colab": {
          "base_uri": "https://localhost:8080/"
        },
        "id": "I1_8FUoinDJ2",
        "outputId": "c51923c7-ad2d-4409-8572-41b979a7f492"
      },
      "execution_count": 31,
      "outputs": [
        {
          "output_type": "stream",
          "name": "stderr",
          "text": [
            "/usr/local/lib/python3.7/dist-packages/ipykernel_launcher.py:11: ComplexWarning: Casting complex values to real discards the imaginary part\n",
            "  # This is added back by InteractiveShellApp.init_path()\n"
          ]
        },
        {
          "output_type": "stream",
          "name": "stdout",
          "text": [
            "Average profit is maximized when cost = 1400\n"
          ]
        }
      ]
    },
    {
      "cell_type": "markdown",
      "source": [
        "### ***Integrating a Simple Function***\n",
        "\n",
        "This is a simple exercise introducing the concept of Monte Carlo Integration.\n",
        "\n",
        "Here we will evaluate a simple integral $ \\int_0^1 x  e^{x} dx$\n",
        ". We know that the exact answer is , but simulation will give us an approximate solution, so we can expect an answer close to . As we saw in the video, it's a simple process. For a function of a single variable :\n",
        "\n",
        "1. Get the limits of the x-axis $(x_{min}, x_{max})$ and y-axis  $(\\max(f(x)), \\min(\\min(f(x)), 0))$.\n",
        "2. Generate a number of uniformly distributed point in this box.\n",
        "3. Multiply the area of the box $(\\max(f(x) - \\min(f(x))\\times(x_{max}-x_{min})$ by the fraction of points that lie below f(x).\n",
        "Upon completion, you will have a framework for handling definite integrals using Monte Carlo Integration.\n",
        "\n",
        "* In the `sim_integrate()` function, generate **uniform** random numbers between `xmin` and `xmax` and assign to `x`.\n",
        "\n",
        "* Generate **uniform** random numbers between $\\min(\\min(f(x)), 0)$ and $\\max(f(x))$ and assign to `y`.\n",
        "\n",
        "* Return the fraction of points less than $f(x)$ multiplied by area $(\\max(f(x) - \\min(f(x))\\times(x_{max}-x_{min})$ .\n",
        "\n",
        "* Finally, use lambda function to define `func` as $x e^{x}$."
      ],
      "metadata": {
        "id": "tdWQuUn30iS8"
      }
    },
    {
      "cell_type": "code",
      "source": [
        "import numpy as np\n",
        "\n",
        "# Define the sim_integrate function\n",
        "def sim_integrate(func, xmin, xmax, sims):\n",
        "    x = np.random.uniform(xmin, xmax, sims)\n",
        "    y = np.random.uniform(min(min(func(x)), 0), max(func(x)), sims)\n",
        "    area = (max(y) - min(y))*(xmax-xmin)\n",
        "    result = area * sum(abs(y) < abs(func(x)))/sims # ไม่ต้องมี abs ก็ได้\n",
        "    return result\n",
        "    \n",
        "# Call the sim_integrate function and print results\n",
        "result = sim_integrate(func=lambda x: x*np.exp(x), xmin=0, xmax=1, sims=50000)\n",
        "print(\"Simulated answer = {}, Actual Answer = 1\".format(result))"
      ],
      "metadata": {
        "colab": {
          "base_uri": "https://localhost:8080/"
        },
        "id": "9fNr4TMgpR4z",
        "outputId": "3c8f9cef-fc28-42f5-d324-a99d23da7173"
      },
      "execution_count": 35,
      "outputs": [
        {
          "output_type": "stream",
          "name": "stdout",
          "text": [
            "Simulated answer = 0.9964400241715593, Actual Answer = 1\n"
          ]
        }
      ]
    },
    {
      "cell_type": "markdown",
      "source": [
        "### ***Calculating the value of $\\pi$***\n",
        "Now we work through a classic example - estimating the value of $\\pi$.\n",
        "\n",
        "Imagine a square of side  with the origin  $(0, 0)$ as its center and the four corners having coordinates $(1, 1), (1, -1), (-1, 1), (-1, -1)$. The area of this square is $2\\times 2 = 4$. Now imagine a circle of radius 1 with its center at the origin fitting perfectly inside this square. The area of the circle will be $\\pi \\times \\text{radius}^2 = \\pi$\n",
        ".\n",
        "\n",
        "To estimate $\\pi$, we randomly sample multiple points in this square & get the fraction of points inside the circle ($x^2 + y^2 <= 1$\n",
        "). The area of the circle then is 4  times this fraction, which gives us our estimate of $\\pi$.\n",
        "\n",
        "After this exercise, you'll have a grasp of how to use simulation for computation.\n",
        "\n",
        "* Examine the true value of $\\pi$ using `np.pi` in the console. Initialize `sims` to `10000` and `circle_points` to `0`.\n",
        "\n",
        "* Within the **`for`** loop, generate a point (x & y coordinates) using `np.random.uniform()` between `-1` and `1`, having `size=2`.\n",
        "\n",
        "* Check if the point lies within the unit circle with the equation $x^2 + y^2 <= 1$, assign to `within_circle`, and increment `circle_points` accordingly.\n",
        "\n",
        "* Print the estimate of  `pi_sim` as `4` times the fraction of points that lie within the circle."
      ],
      "metadata": {
        "id": "0YA9z2P94fh1"
      }
    },
    {
      "cell_type": "code",
      "source": [
        "import numpy as np\n",
        "\n",
        "# Initialize sims and circle_points\n",
        "sims, circle_points = 1000000, 0 \n",
        "\n",
        "for i in range(sims):\n",
        "    # Generate the two coordinates of a point\n",
        "    point = np.random.uniform(-1, 1, size=2)\n",
        "    # if the point lies within the unit circle, increment counter\n",
        "    within_circle = point[0]**2 + point[1]**2 <= 1\n",
        "    if within_circle == True:\n",
        "        circle_points +=1\n",
        "        \n",
        "# Estimate pi as 4 times the avg number of points in the circle.\n",
        "pi_sim = 4 * circle_points/sims\n",
        "print(\"Simulated value of pi = {}\".format(pi_sim))"
      ],
      "metadata": {
        "colab": {
          "base_uri": "https://localhost:8080/"
        },
        "id": "0WmCi6Nl4E--",
        "outputId": "91beaaa4-71e4-46fe-a545-dd678bc74e90"
      },
      "execution_count": 36,
      "outputs": [
        {
          "output_type": "stream",
          "name": "stdout",
          "text": [
            "Simulated value of pi = 3.139124\n"
          ]
        }
      ]
    },
    {
      "cell_type": "markdown",
      "source": [
        "# ***Power***\n",
        "\n",
        "* power = $P(\\text{rejecting Null}|\\text{True Alternative})$\n",
        "* Depends on sample size, $\\alpha$, and effect size.\n",
        "* Typically 80% power for $\\alpha = 0.05$\n",
        "\n",
        "![image.png](data:image/png;base64,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)\n",
        "\n"
      ],
      "metadata": {
        "id": "TBA5D-HZ8VX8"
      }
    },
    {
      "cell_type": "markdown",
      "source": [
        "### ***Power Analysis - Part I***\n",
        "\n",
        "Now we turn to power analysis. You typically want to ensure that any experiment or A/B test you run has at least 80% power. One way to ensure this is to ***calculate the sample size required to achieve 80% power***.\n",
        "\n",
        "Suppose that you are in charge of a news media website and you are interested in increasing the amount of time users spend on your website. Currently, the time users spend on your website is normally distributed with a mean of 1 minute and a standard deviation of 0.5 minutes. Suppose that you are introducing a feature that loads pages faster and want to know the sample size required to measure a 5% increase in time spent on the website.\n",
        "\n",
        "In this exercise, we will set up the framework to run one simulation, run a t-test, & calculate the p-value.\n",
        "\n",
        "* Initialize `effect_size` to 5%, `control_mean` to `1` and `control_sd` to `0.5`.\n",
        "\n",
        "* Using `np.random.normal()`, simulate one drawing of `control_time_spent` and `treatment_time_spent` using the values you initialized.\n",
        "\n",
        "* Run a t-test on `treatment_time_spent` and `control_time_spent` using `st.ttest_ind()` where `st` is `scipy.stats`, which is already imported.\n",
        "\n",
        "* Statistical significance `stat_sig` should be `True` if `p_value` is less than `0.05`, otherwise it should be `False`."
      ],
      "metadata": {
        "id": "kE4xBa_-9mls"
      }
    },
    {
      "cell_type": "code",
      "source": [
        "import numpy as np\n",
        "import scipy.stats as st\n",
        "\n",
        "np.random.seed(123)\n",
        "\n",
        "# Initialize effect_size, control_mean, control_sd\n",
        "effect_size, sample_size, control_mean, control_sd = 0.05, 50, 1, 0.5\n",
        "\n",
        "# Simulate control_time_spent and treatment_time_spent, assuming equal variance\n",
        "control_time_spent = np.random.normal(loc=control_mean, scale=control_sd, size=sample_size)\n",
        "treatment_time_spent = np.random.normal(loc=control_mean*(1+effect_size), scale=control_sd, size=sample_size)\n",
        "\n",
        "# Run the t-test and get the p_value\n",
        "t_stat, p_value = st.ttest_ind(treatment_time_spent, control_time_spent)\n",
        "stat_sig = p_value < 0.05\n",
        "print(\"P-value: {}, Statistically Significant? {}\".format(p_value, stat_sig))"
      ],
      "metadata": {
        "colab": {
          "base_uri": "https://localhost:8080/"
        },
        "id": "h8JDf-yF7uYd",
        "outputId": "3ecd97df-127f-483c-f165-9298825bf109"
      },
      "execution_count": 39,
      "outputs": [
        {
          "output_type": "stream",
          "name": "stdout",
          "text": [
            "P-value: 0.5766409395002308, Statistically Significant? False\n"
          ]
        }
      ]
    },
    {
      "cell_type": "markdown",
      "source": [
        "### ***Power Analysis - Part II***\n",
        "\n",
        "Previously, we simulated one instance of the experiment & generated a p-value. We will now use this framework to calculate statistical power. Power of an experiment is the experiment's ability to detect a difference between treatment & control if the difference really exists. It's good statistical hygiene to strive for 80% power.\n",
        "\n",
        "For our website, suppose we want to know how many people need to visit each variant, such that we can detect a 10% increase in time spent with 80% power. For this, we start with a small sample (50), simulate multiple instances of this experiment & check power. If 80% power is reached, we stop. If not, we increase the sample size & try again.\n",
        "\n",
        "* For the `time_spent` random variables, set `size` as tuples such that `shape` is `sample_size` $\\times$ `sims`.\n",
        "\n",
        "* Calculate power as a fraction of p-values less than `0.05` (statistically significant).\n",
        "\n",
        "* If power is greater than or equal to 80%, break out of the `while` loop. Else, keep incrementing `sample_size by 10`."
      ],
      "metadata": {
        "id": "fEMkTUqwGVLM"
      }
    },
    {
      "cell_type": "code",
      "source": [
        "import numpy as np\n",
        "import scipy.stats as st\n",
        "\n",
        "np.random.seed(123)\n",
        "effect_size = 0.1\n",
        "control_mean, control_sd = 1, 0.5\n",
        "sample_size = 50\n",
        "sims = 1000\n",
        "\n",
        "# Keep incrementing sample size by 10 till we reach required power\n",
        "while 1:\n",
        "    control_time_spent = np.random.normal(loc=control_mean, scale=control_sd, size=(sample_size,sims))\n",
        "    treatment_time_spent = np.random.normal(loc=control_mean*(1+effect_size), scale=control_sd, size=(sample_size, sims))\n",
        "    t, p = st.ttest_ind(treatment_time_spent, control_time_spent)\n",
        "    \n",
        "    # Power is the fraction of times in the simulation when the p-value was less than 0.05\n",
        "    power = (p < 0.05).sum()/sims\n",
        "    if power >= 0.8: \n",
        "        break\n",
        "    else: \n",
        "        sample_size += 10\n",
        "    if sample_size % 100 ==0:\n",
        "        print(f'sample_size={sample_size}')\n",
        "print(\"For 80% power, sample size required = {}\".format(sample_size))\n"
      ],
      "metadata": {
        "colab": {
          "base_uri": "https://localhost:8080/"
        },
        "id": "XRi2nJt472Md",
        "outputId": "42fd40c9-92c6-40cd-c7f7-92da0f6a5a58"
      },
      "execution_count": 4,
      "outputs": [
        {
          "output_type": "stream",
          "name": "stdout",
          "text": [
            "sample_size=100\n",
            "sample_size=200\n",
            "sample_size=300\n",
            "For 80% power, sample size required = 360\n"
          ]
        }
      ]
    },
    {
      "cell_type": "markdown",
      "source": [
        "Now you know how to estimate the sample size required to reach a given level of power.\n",
        "\n",
        "### ***Portfolio Simulation - Part I***\n",
        "\n",
        "In the next few exercises, you will calculate the expected returns of a stock portfolio & characterize its uncertainty.\n",
        "\n",
        "Suppose you have invested $10,000 in your portfolio comprising of multiple stocks. You want to evaluate the portfolio's performance over 10 years. You can tweak your overall expected rate of return and volatility (standard deviation of the rate of return). Assume the rate of return follows a normal distribution.\n",
        "\n",
        "First, let's write a function that takes the principal (initial investment), number of years, expected rate of return and volatility as inputs and returns the portfolio's total value after 10 years.\n",
        "\n",
        "Upon completion of this exercise, you will have a function you can call to determine portfolio performance.\n",
        "\n",
        "* In the function definition, accept four arguments: number of years `yrs`, the expected rate of return `avg_return`, volatility `sd_of_return`, and principal (initial investment) `principal` as inputs.\n",
        "\n",
        "* Simulate rates of return for each year as a **normal** random variable.\n",
        "\n",
        "* Initialize `end_return` to the `principal` input. In the `for` loop, `end_return` is scaled up by the rate each year.\n",
        "\n",
        "* Use `portfolio_return()` to calculate and print result."
      ],
      "metadata": {
        "id": "3v4LL9gNH1fL"
      }
    },
    {
      "cell_type": "code",
      "source": [
        "import numpy as np\n",
        "np.random.seed(123)\n",
        "\n",
        "# rates is a Normal random variable and has size equal to number of years\n",
        "def portfolio_return(yrs, avg_return, volatility, principal):\n",
        "    #np.random.seed(123)\n",
        "\n",
        "    ### อย่าใส่ seed ไปในฟังก์ชัน มันจะ bug ###\n",
        "\n",
        "    rates = np.random.normal(loc=avg_return, scale=volatility, size=yrs)\n",
        "    # Calculate the return at the end of the period\n",
        "    end_return = principal\n",
        "    for x in rates:\n",
        "        end_return = end_return*(1+x)\n",
        "    return end_return\n",
        "\n",
        "result = portfolio_return(yrs=5, avg_return=0.07, volatility=0.15, principal=1000)\n",
        "print(\"Portfolio return after 5 years = {}\".format(result))"
      ],
      "metadata": {
        "colab": {
          "base_uri": "https://localhost:8080/"
        },
        "id": "7K7DSUgpHxYe",
        "outputId": "1df50a2d-bda8-40ce-b5a3-96b3cdcfbf75"
      },
      "execution_count": 1,
      "outputs": [
        {
          "output_type": "stream",
          "name": "stdout",
          "text": [
            "Portfolio return after 5 years = 1021.4013412039292\n"
          ]
        }
      ]
    },
    {
      "cell_type": "markdown",
      "source": [
        "### ***Portfolio Simulation - Part II***\n",
        "\n",
        "Now we will use the simulation function you built to evaluate 10-year returns.\n",
        "\n",
        "Your stock-heavy portfolio has an initial investment of $10,000, an expected return of 7% and a volatility of 30%. You want to get a 95% confidence interval of what your investment will be worth in 10 years. We will simulate multiple samples of 10-year returns and calculate the confidence intervals on the distribution of returns.\n",
        "\n",
        "By the end of this exercise, you will have run a complete portfolio simulation.\n",
        "\n",
        "The function `portfolio_return()` from the previous exercise is already initialized in the environment.\n",
        "\n",
        "* Initialize `sims` to 1,000.\n",
        "\n",
        "* Enter the appropriate values for the `portfolio_return()` function parameters.\n",
        "\n",
        "* Calculate the 95% confidence interval lower (`lower_ci`) and upper limits (`upper_ci`)."
      ],
      "metadata": {
        "id": "D5p7LwkHMqvk"
      }
    },
    {
      "cell_type": "code",
      "source": [
        "import numpy as np\n",
        "np.random.seed(123)\n",
        "\n",
        "# Run 1,000 iterations and store the results\n",
        "sims, rets = 1000, []\n",
        "\n",
        "for i in range(sims):\n",
        "    rets.append(portfolio_return(yrs=10, avg_return=0.07, \n",
        "                                 volatility=0.3, principal=10000))\n",
        "\n",
        "# Calculate the 95% CI\n",
        "lower_ci = np.percentile(rets, 2.5)\n",
        "upper_ci = np.percentile(rets, 97.5)\n",
        "print(\"95% CI of Returns: Lower = {}, Upper = {}\".format(lower_ci, upper_ci))"
      ],
      "metadata": {
        "colab": {
          "base_uri": "https://localhost:8080/"
        },
        "id": "rJKkLvupI1Ax",
        "outputId": "b14f9660-1d4e-4deb-ece3-8c6bae4839f3"
      },
      "execution_count": 2,
      "outputs": [
        {
          "output_type": "stream",
          "name": "stdout",
          "text": [
            "95% CI of Returns: Lower = 1236.4468015417674, Upper = 79510.31743325583\n"
          ]
        }
      ]
    },
    {
      "cell_type": "markdown",
      "source": [
        "### ***Portfolio Simulation - Part III***\n",
        "\n",
        "Previously, we ran a complete simulation to get a distribution for 10-year returns. Now we will use simulation for decision making.\n",
        "\n",
        "Let's go back to your stock-heavy portfolio with an expected return of 7% and a volatility of 30%. You have the choice of rebalancing your portfolio with some bonds such that the expected return is 4% & volatility is 10%. You have a principal of $10,000. You want to select a strategy based on how much your portfolio will be worth in 10 years. Let's simulate returns for both the portfolios and choose based on the least amount you can expect with 75% probability (25th percentile).\n",
        "\n",
        "The `portfolio_return()` function is again pre-loaded in the environment.\n",
        "\n",
        "* Set `avg_return` and `volatility` parameters to `0.07` and `0.3`, respectively, for the stock portfolio.\n",
        "\n",
        "* Set `avg_return` and `volatility` parameters to `0.04` and `0.1`, respectively, for the bond portfolio.\n",
        "\n",
        "* Calculate the 25th percentile of the distribution of returns for the stock `rets_stock_perc` and bond `rets_bond_perc` portfolios.\n",
        "\n",
        "* Calculate and print how much additional returns `additional_returns` you would lose or gain by sticking with stocks instead of going to bonds."
      ],
      "metadata": {
        "id": "TEAnedVcTVU9"
      }
    },
    {
      "cell_type": "code",
      "source": [
        "rets_stock, rets_bond = [], []\n",
        "\n",
        "for i in range(sims):\n",
        "    rets_stock.append(portfolio_return(yrs=10, avg_return=0.07, volatility=0.3, principal=10000))\n",
        "    rets_bond.append(portfolio_return(yrs=10, avg_return=0.04, volatility=0.1, principal=10000))\n",
        "\n",
        "# Calculate the 25th percentile of the distributions and the amount you'd lose or gain\n",
        "rets_stock_perc = np.percentile(rets_stock, 25)\n",
        "rets_bond_perc = np.percentile(rets_bond, 25)\n",
        "additional_returns = rets_stock_perc - rets_bond_perc\n",
        "print(\"Sticking to stocks gets you an additional return of {}\".format(additional_returns))"
      ],
      "metadata": {
        "colab": {
          "base_uri": "https://localhost:8080/"
        },
        "id": "opR2LIFONTiF",
        "outputId": "c5b2153f-2808-4652-d667-6734a5849c3d"
      },
      "execution_count": 4,
      "outputs": [
        {
          "output_type": "stream",
          "name": "stdout",
          "text": [
            "Sticking to stocks gets you an additional return of -5312.999858996807\n"
          ]
        }
      ]
    }
  ]
}